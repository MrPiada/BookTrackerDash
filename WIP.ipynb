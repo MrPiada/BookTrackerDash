{
 "cells": [
  {
   "cell_type": "code",
   "execution_count": 2,
   "id": "afd39795",
   "metadata": {},
   "outputs": [],
   "source": [
    "from datetime import datetime, timedelta\n",
    "import pandas as pd\n",
    "from openpyxl import load_workbook\n",
    "import plotly.express as px\n",
    "import plotly.graph_objects as go\n",
    "from plotly.subplots import make_subplots\n",
    "import plotly.io as pio"
   ]
  },
  {
   "cell_type": "code",
   "execution_count": 3,
   "id": "9585906d",
   "metadata": {},
   "outputs": [],
   "source": [
    "pio.templates.default = \"gridon\""
   ]
  },
  {
   "cell_type": "code",
   "execution_count": 4,
   "id": "870a0cf8",
   "metadata": {},
   "outputs": [],
   "source": [
    "def extract_date(date_str):\n",
    "    return date_str.split('T')[0]\n",
    "\n",
    "\n",
    "# Carica il tuo file Excel e prepara i dati come hai fatto nel tuo codice\n",
    "# originale\n",
    "file_excel = \"data/Books.xlsx\"\n",
    "df = pd.read_excel(file_excel, sheet_name=\"Shelf\")\n",
    "df = df.drop('Cover', axis=1)"
   ]
  },
  {
   "cell_type": "code",
   "execution_count": 5,
   "id": "2a8bd6f4",
   "metadata": {},
   "outputs": [
    {
     "data": {
      "text/html": [
       "<div>\n",
       "<style scoped>\n",
       "    .dataframe tbody tr th:only-of-type {\n",
       "        vertical-align: middle;\n",
       "    }\n",
       "\n",
       "    .dataframe tbody tr th {\n",
       "        vertical-align: top;\n",
       "    }\n",
       "\n",
       "    .dataframe thead th {\n",
       "        text-align: right;\n",
       "    }\n",
       "</style>\n",
       "<table border=\"1\" class=\"dataframe\">\n",
       "  <thead>\n",
       "    <tr style=\"text-align: right;\">\n",
       "      <th></th>\n",
       "      <th>Evaluation</th>\n",
       "      <th>Status</th>\n",
       "      <th>Title</th>\n",
       "      <th>Authors</th>\n",
       "      <th>Start</th>\n",
       "      <th>End</th>\n",
       "      <th>Type</th>\n",
       "      <th>Category</th>\n",
       "      <th>Sub-Category</th>\n",
       "      <th>Series</th>\n",
       "      <th>Language</th>\n",
       "    </tr>\n",
       "  </thead>\n",
       "  <tbody>\n",
       "    <tr>\n",
       "      <th>0</th>\n",
       "      <td>8.0</td>\n",
       "      <td>Read</td>\n",
       "      <td>C++ Crash Course</td>\n",
       "      <td>Lospinoso,Josh</td>\n",
       "      <td>NaT</td>\n",
       "      <td>NaT</td>\n",
       "      <td>ebook</td>\n",
       "      <td>Coding</td>\n",
       "      <td>C++</td>\n",
       "      <td>NaN</td>\n",
       "      <td>en</td>\n",
       "    </tr>\n",
       "    <tr>\n",
       "      <th>1</th>\n",
       "      <td>8.0</td>\n",
       "      <td>Read</td>\n",
       "      <td>Beautiful C++</td>\n",
       "      <td>Davidson,J.;Gregory,Kate</td>\n",
       "      <td>NaT</td>\n",
       "      <td>NaT</td>\n",
       "      <td>ebook</td>\n",
       "      <td>Coding</td>\n",
       "      <td>C++</td>\n",
       "      <td>NaN</td>\n",
       "      <td>en</td>\n",
       "    </tr>\n",
       "    <tr>\n",
       "      <th>2</th>\n",
       "      <td>7.5</td>\n",
       "      <td>Read</td>\n",
       "      <td>Calcoli morali</td>\n",
       "      <td>Mérö,László</td>\n",
       "      <td>NaT</td>\n",
       "      <td>NaT</td>\n",
       "      <td>paper</td>\n",
       "      <td>Psychology</td>\n",
       "      <td>Game theory</td>\n",
       "      <td>NaN</td>\n",
       "      <td>it</td>\n",
       "    </tr>\n",
       "  </tbody>\n",
       "</table>\n",
       "</div>"
      ],
      "text/plain": [
       "   Evaluation Status             Title                   Authors Start End  \\\n",
       "0         8.0   Read  C++ Crash Course            Lospinoso,Josh   NaT NaT   \n",
       "1         8.0   Read     Beautiful C++  Davidson,J.;Gregory,Kate   NaT NaT   \n",
       "2         7.5   Read    Calcoli morali               Mérö,László   NaT NaT   \n",
       "\n",
       "    Type    Category Sub-Category Series Language  \n",
       "0  ebook      Coding          C++    NaN       en  \n",
       "1  ebook      Coding          C++    NaN       en  \n",
       "2  paper  Psychology  Game theory    NaN       it  "
      ]
     },
     "execution_count": 5,
     "metadata": {},
     "output_type": "execute_result"
    }
   ],
   "source": [
    "df.head(3)"
   ]
  },
  {
   "cell_type": "code",
   "execution_count": 6,
   "id": "9c3807b9",
   "metadata": {},
   "outputs": [
    {
     "data": {
      "application/vnd.plotly.v1+json": {
       "config": {
        "plotlyServerURL": "https://plot.ly"
       },
       "data": [
        {
         "hoverinfo": "label+percent",
         "labels": [
          "Read",
          "Waiting",
          "Reading",
          "Dismissed"
         ],
         "marker": {
          "colors": [
           "green",
           "yellow",
           "blue",
           "red"
          ],
          "line": {
           "color": "#000000",
           "width": 2
          }
         },
         "textfont": {
          "size": 30
         },
         "textinfo": "value",
         "type": "pie",
         "values": [
          88,
          25,
          8,
          7
         ]
        }
       ],
       "layout": {
        "template": {
         "data": {
          "pie": [
           {
            "automargin": true,
            "type": "pie"
           }
          ]
         },
         "layout": {
          "xaxis": {
           "showgrid": true,
           "title": {
            "standoff": 15
           }
          },
          "yaxis": {
           "showgrid": true,
           "title": {
            "standoff": 15
           }
          }
         }
        }
       }
      }
     },
     "metadata": {},
     "output_type": "display_data"
    }
   ],
   "source": [
    "colors = ['green', 'yellow', 'blue', 'red']\n",
    "status_counts = df['Status'].value_counts()\n",
    "\n",
    "fig = go.Figure(data=[go.Pie(labels=status_counts.index,\n",
    "                             values=status_counts.values)])\n",
    "fig.update_traces(hoverinfo='label+percent', textinfo='value', textfont_size=30,\n",
    "                  marker=dict(colors=colors, line=dict(color='#000000', width=2)))\n",
    "fig.show()"
   ]
  },
  {
   "cell_type": "code",
   "execution_count": 7,
   "id": "47d8ea64",
   "metadata": {},
   "outputs": [
    {
     "data": {
      "text/plain": [
       "Index(['Evaluation', 'Status', 'Title', 'Authors', 'Start', 'End', 'Type',\n",
       "       'Category', 'Sub-Category', 'Series', 'Language'],\n",
       "      dtype='object')"
      ]
     },
     "execution_count": 7,
     "metadata": {},
     "output_type": "execute_result"
    }
   ],
   "source": [
    "df.columns"
   ]
  },
  {
   "cell_type": "code",
   "execution_count": 11,
   "id": "6bddb851",
   "metadata": {},
   "outputs": [
    {
     "data": {
      "application/vnd.plotly.v1+json": {
       "config": {
        "plotlyServerURL": "https://plot.ly"
       },
       "data": [
        {
         "alignmentgroup": "True",
         "base": [
          "2022-11-06T00:00:00",
          "2023-04-19T00:00:00",
          "2023-06-18T00:00:00"
         ],
         "customdata": [
          [
           "Moskalenko,Viktor",
           "ebook",
           "Training",
           "en",
           "Reading"
          ],
          [
           "Flórián,Tibor",
           "paper",
           "Training",
           "it",
           "Reading"
          ],
          [
           "Justesen,Martin",
           "ebook",
           "Endgames",
           "en",
           "Reading"
          ]
         ],
         "hovertemplate": "Category=Chess<br>Start=%{base}<br>End=%{x}<br>Title=%{y}<br>Authors=%{customdata[0]}<br>Type=%{customdata[1]}<br>Sub-Category=%{customdata[2]}<br>Language=%{customdata[3]}<br>Status=%{customdata[4]}<extra></extra>",
         "legendgroup": "Chess",
         "marker": {
          "color": "#1F77B4",
          "line": {
           "width": 2
          },
          "pattern": {
           "shape": ""
          }
         },
         "name": "Chess",
         "offsetgroup": "Chess",
         "orientation": "h",
         "showlegend": true,
         "textposition": "auto",
         "type": "bar",
         "x": [
          28944000000,
          14774400000,
          9590400000
         ],
         "xaxis": "x",
         "y": [
          "Training with Moska",
          "Difesa e contrattacco",
          "Blindfold Endgame Visualization"
         ],
         "yaxis": "y"
        },
        {
         "alignmentgroup": "True",
         "base": [
          "2022-12-18T00:00:00",
          "2023-08-15T00:00:00"
         ],
         "customdata": [
          [
           "Iglberger,Klaus",
           "paper",
           "C++",
           "en",
           "Reading"
          ],
          [
           "Lapan,Maxim",
           "ebook",
           "Machine learning",
           "en",
           "Reading"
          ]
         ],
         "hovertemplate": "Category=Coding<br>Start=%{base}<br>End=%{x}<br>Title=%{y}<br>Authors=%{customdata[0]}<br>Type=%{customdata[1]}<br>Sub-Category=%{customdata[2]}<br>Language=%{customdata[3]}<br>Status=%{customdata[4]}<extra></extra>",
         "legendgroup": "Coding",
         "marker": {
          "color": "#FF7F0E",
          "line": {
           "width": 2
          },
          "pattern": {
           "shape": ""
          }
         },
         "name": "Coding",
         "offsetgroup": "Coding",
         "orientation": "h",
         "showlegend": true,
         "textposition": "auto",
         "type": "bar",
         "x": [
          25315200000,
          4579200000
         ],
         "xaxis": "x",
         "y": [
          "C++ Software Design",
          "Deep Reinforcement Learning Hands-On"
         ],
         "yaxis": "y"
        },
        {
         "alignmentgroup": "True",
         "base": [
          "2023-05-13T00:00:00"
         ],
         "customdata": [
          [
           "Sonmez,John",
           "ebook",
           "Coding",
           "en",
           "Reading"
          ]
         ],
         "hovertemplate": "Category=Self improvement<br>Start=%{base}<br>End=%{x}<br>Title=%{y}<br>Authors=%{customdata[0]}<br>Type=%{customdata[1]}<br>Sub-Category=%{customdata[2]}<br>Language=%{customdata[3]}<br>Status=%{customdata[4]}<extra></extra>",
         "legendgroup": "Self improvement",
         "marker": {
          "color": "#2CA02C",
          "line": {
           "width": 2
          },
          "pattern": {
           "shape": ""
          }
         },
         "name": "Self improvement",
         "offsetgroup": "Self improvement",
         "orientation": "h",
         "showlegend": true,
         "textposition": "auto",
         "type": "bar",
         "x": [
          12700800000
         ],
         "xaxis": "x",
         "y": [
          "Soft Skills"
         ],
         "yaxis": "y"
        },
        {
         "alignmentgroup": "True",
         "base": [
          "2023-05-14T00:00:00"
         ],
         "customdata": [
          [
           "Sunstein,Cass R.;Thaler,Richard H.",
           "ebook",
           "Classic",
           "it",
           "Read"
          ]
         ],
         "hovertemplate": "Category=Psychology<br>Start=%{base}<br>End=%{x}<br>Title=%{y}<br>Authors=%{customdata[0]}<br>Type=%{customdata[1]}<br>Sub-Category=%{customdata[2]}<br>Language=%{customdata[3]}<br>Status=%{customdata[4]}<extra></extra>",
         "legendgroup": "Psychology",
         "marker": {
          "color": "#D62728",
          "line": {
           "width": 2
          },
          "pattern": {
           "shape": ""
          }
         },
         "name": "Psychology",
         "offsetgroup": "Psychology",
         "orientation": "h",
         "showlegend": true,
         "textposition": "auto",
         "type": "bar",
         "x": [
          12528000000
         ],
         "xaxis": "x",
         "y": [
          "Nudge. La spinta gentile."
         ],
         "yaxis": "y"
        },
        {
         "alignmentgroup": "True",
         "base": [
          "2023-07-09T00:00:00"
         ],
         "customdata": [
          [
           "Palahniuk,Chuck",
           "ebook",
           "Miscellanea",
           "it",
           "Reading"
          ]
         ],
         "hovertemplate": "Category=Fiction<br>Start=%{base}<br>End=%{x}<br>Title=%{y}<br>Authors=%{customdata[0]}<br>Type=%{customdata[1]}<br>Sub-Category=%{customdata[2]}<br>Language=%{customdata[3]}<br>Status=%{customdata[4]}<extra></extra>",
         "legendgroup": "Fiction",
         "marker": {
          "color": "#9467BD",
          "line": {
           "width": 2
          },
          "pattern": {
           "shape": ""
          }
         },
         "name": "Fiction",
         "offsetgroup": "Fiction",
         "orientation": "h",
         "showlegend": true,
         "textposition": "auto",
         "type": "bar",
         "x": [
          7776000000
         ],
         "xaxis": "x",
         "y": [
          "Gang bang"
         ],
         "yaxis": "y"
        },
        {
         "alignmentgroup": "True",
         "base": [
          "2023-09-13T00:00:00"
         ],
         "customdata": [
          [
           "Paolini,Christopher",
           "audiobook",
           "Miscellanea",
           "en",
           "Reading"
          ]
         ],
         "hovertemplate": "Category=Fantasy<br>Start=%{base}<br>End=%{x}<br>Title=%{y}<br>Authors=%{customdata[0]}<br>Type=%{customdata[1]}<br>Sub-Category=%{customdata[2]}<br>Language=%{customdata[3]}<br>Status=%{customdata[4]}<extra></extra>",
         "legendgroup": "Fantasy",
         "marker": {
          "color": "#8C564B",
          "line": {
           "width": 2
          },
          "pattern": {
           "shape": ""
          }
         },
         "name": "Fantasy",
         "offsetgroup": "Fantasy",
         "orientation": "h",
         "showlegend": true,
         "textposition": "auto",
         "type": "bar",
         "x": [
          2073600000
         ],
         "xaxis": "x",
         "y": [
          "Brisingr"
         ],
         "yaxis": "y"
        }
       ],
       "layout": {
        "barmode": "overlay",
        "legend": {
         "title": {
          "text": "Category"
         },
         "tracegroupgap": 0
        },
        "margin": {
         "l": 250,
         "t": 60
        },
        "showlegend": true,
        "template": {
         "data": {
          "pie": [
           {
            "automargin": true,
            "type": "pie"
           }
          ]
         },
         "layout": {
          "xaxis": {
           "showgrid": true,
           "title": {
            "standoff": 15
           }
          },
          "yaxis": {
           "showgrid": true,
           "title": {
            "standoff": 15
           }
          }
         }
        },
        "title": {
         "text": ""
        },
        "xaxis": {
         "anchor": "y",
         "domain": [
          0,
          1
         ],
         "title": {
          "text": ""
         },
         "type": "date"
        },
        "yaxis": {
         "anchor": "x",
         "categoryorder": "total ascending",
         "domain": [
          0,
          1
         ],
         "title": {
          "text": ""
         }
        }
       }
      }
     },
     "metadata": {},
     "output_type": "display_data"
    }
   ],
   "source": [
    "# Copia il DataFrame originale per evitare modifiche indesiderate\n",
    "df_copy = df.copy()\n",
    "\n",
    "# Sostituisci le date End mancanti con la data di oggi\n",
    "today = datetime.today().date()\n",
    "df_copy['End'].fillna(today, inplace=True)\n",
    "\n",
    "# Crea il Gantt chart con Plotly Express\n",
    "fig = px.timeline(df_copy[df_copy['Start'].notna()], x_start='Start', x_end='End', y='Title', color='Category', hover_data=['Authors', 'Type', 'Sub-Category', 'Language', 'Status'])\n",
    "\n",
    "fig.update_yaxes(categoryorder=\"total ascending\")\n",
    "\n",
    "fig.update_layout(\n",
    "    xaxis_title=\"\",\n",
    "    yaxis_title=\"\",\n",
    "    title=\"\",\n",
    "    showlegend=True,\n",
    "    margin=dict(l=250)\n",
    ")\n",
    "\n",
    "fig.update_traces(marker=dict(line=dict(width=2)))  # Modifica la larghezza delle barre\n",
    "\n",
    "fig.show()"
   ]
  },
  {
   "cell_type": "code",
   "execution_count": 8,
   "id": "d5147a90",
   "metadata": {},
   "outputs": [
    {
     "data": {
      "text/plain": [
       "Index(['Evaluation', 'Status', 'Title', 'Authors', 'Start', 'End', 'Type',\n",
       "       'Category', 'Sub-Category', 'Series', 'Language'],\n",
       "      dtype='object')"
      ]
     },
     "execution_count": 8,
     "metadata": {},
     "output_type": "execute_result"
    }
   ],
   "source": [
    "df.columns"
   ]
  },
  {
   "cell_type": "code",
   "execution_count": 15,
   "id": "a07d95d7",
   "metadata": {},
   "outputs": [
    {
     "data": {
      "application/vnd.plotly.v1+json": {
       "config": {
        "plotlyServerURL": "https://plot.ly"
       },
       "data": [
        {
         "branchvalues": "total",
         "customdata": [
          [
           "Philosophy"
          ],
          [
           "Chess"
          ],
          [
           "Fantasy"
          ],
          [
           "Physics"
          ],
          [
           "Fiction"
          ],
          [
           "Chess"
          ],
          [
           "Chess"
          ],
          [
           "Chess"
          ],
          [
           "Fiction"
          ],
          [
           "Chess"
          ],
          [
           "Fantasy"
          ],
          [
           "Chess"
          ],
          [
           "Philosophy"
          ],
          [
           "Physics"
          ],
          [
           "Adventure"
          ],
          [
           "Psychology"
          ],
          [
           "Philosophy"
          ],
          [
           "Chess"
          ],
          [
           "Fiction"
          ],
          [
           "Coding"
          ],
          [
           "Science fiction"
          ],
          [
           "Fantasy"
          ],
          [
           "Chess"
          ],
          [
           "Fiction"
          ],
          [
           "Science fiction"
          ],
          [
           "Science fiction"
          ],
          [
           "Chess"
          ],
          [
           "Fiction"
          ],
          [
           "Chess"
          ],
          [
           "Physics"
          ],
          [
           "Coding"
          ],
          [
           "Chess"
          ],
          [
           "Science fiction"
          ],
          [
           "Psychology"
          ],
          [
           "Science fiction"
          ],
          [
           "Chess"
          ],
          [
           "Coding"
          ],
          [
           "Chess"
          ],
          [
           "Science fiction"
          ],
          [
           "Chess"
          ],
          [
           "Fantasy"
          ],
          [
           "Fiction"
          ],
          [
           "Fiction"
          ],
          [
           "Chess"
          ],
          [
           "Fiction"
          ],
          [
           "Physics"
          ],
          [
           "Fantasy"
          ],
          [
           "Chess"
          ],
          [
           "Fiction"
          ],
          [
           "Science fiction"
          ],
          [
           "Chess"
          ],
          [
           "Chess"
          ],
          [
           "Self improvement"
          ],
          [
           "Chess"
          ],
          [
           "Adventure"
          ],
          [
           "Chess"
          ],
          [
           "Fantasy"
          ],
          [
           "Chess"
          ],
          [
           "Chess"
          ],
          [
           "Psychology"
          ],
          [
           "Psychology"
          ],
          [
           "Coding"
          ],
          [
           "Coding"
          ],
          [
           "Coding"
          ],
          [
           "Coding"
          ],
          [
           "Chess"
          ],
          [
           "Chess"
          ],
          [
           "Coding"
          ],
          [
           "Chess"
          ],
          [
           "Fantasy"
          ],
          [
           "Chess"
          ],
          [
           "Chess"
          ],
          [
           "Chess"
          ],
          [
           "Music"
          ],
          [
           "Chess"
          ],
          [
           "Chess"
          ],
          [
           "Self improvement"
          ],
          [
           "Fantasy"
          ],
          [
           "Chess"
          ],
          [
           "Fantasy"
          ],
          [
           "Chess"
          ],
          [
           "Science fiction"
          ],
          [
           "Chess"
          ],
          [
           "Fantasy"
          ],
          [
           "Science fiction"
          ],
          [
           "Philosophy"
          ],
          [
           "Fiction"
          ],
          [
           "Chess"
          ],
          [
           "Fantasy"
          ],
          [
           "Fantasy"
          ],
          [
           "Fiction"
          ],
          [
           "Fantasy"
          ],
          [
           "Philosophy"
          ],
          [
           "Math"
          ],
          [
           "Fiction"
          ],
          [
           "Chess"
          ],
          [
           "Adventure"
          ],
          [
           "Fiction"
          ],
          [
           "Self improvement"
          ],
          [
           "Fiction"
          ],
          [
           "Chess"
          ],
          [
           "Coding"
          ],
          [
           "Chess"
          ],
          [
           "Fantasy"
          ],
          [
           "Coding"
          ],
          [
           "Fiction"
          ],
          [
           "Philosophy"
          ],
          [
           "Fantasy"
          ],
          [
           "Fiction"
          ],
          [
           "Chess"
          ],
          [
           "Fiction"
          ],
          [
           "Science fiction"
          ],
          [
           "Math"
          ],
          [
           "Economics"
          ],
          [
           "Physics"
          ],
          [
           "Science fiction"
          ],
          [
           "Fantasy"
          ],
          [
           "Fiction"
          ],
          [
           "Fiction"
          ],
          [
           "Adventure"
          ],
          [
           "Math"
          ],
          [
           "Fantasy"
          ],
          [
           "Fiction"
          ],
          [
           "Fiction"
          ],
          [
           "Science fiction"
          ],
          [
           "Fantasy"
          ],
          [
           "Chess"
          ],
          [
           "Physics"
          ],
          [
           "Chess"
          ],
          [
           "Coding"
          ],
          [
           "Coding"
          ],
          [
           "Fiction"
          ],
          [
           "Science fiction"
          ],
          [
           "Adventure"
          ],
          [
           "Chess"
          ],
          [
           "Coding"
          ],
          [
           "Fiction"
          ],
          [
           "Philosophy"
          ],
          [
           "Psychology"
          ],
          [
           "Science fiction"
          ],
          [
           "Fiction"
          ],
          [
           "Self improvement"
          ],
          [
           "Chess"
          ],
          [
           "Psychology"
          ],
          [
           "Chess"
          ],
          [
           "Coding"
          ],
          [
           "Adventure"
          ],
          [
           "Chess"
          ],
          [
           "Economics"
          ],
          [
           "Fantasy"
          ],
          [
           "Fiction"
          ],
          [
           "Math"
          ],
          [
           "Music"
          ],
          [
           "Philosophy"
          ],
          [
           "Physics"
          ],
          [
           "Science fiction"
          ],
          [
           "Self improvement"
          ],
          [
           "Chess"
          ],
          [
           "Coding"
          ],
          [
           "Fiction"
          ],
          [
           "Math"
          ],
          [
           "Philosophy"
          ],
          [
           "Physics"
          ],
          [
           "Chess"
          ],
          [
           "Adventure"
          ],
          [
           "Chess"
          ],
          [
           "Coding"
          ],
          [
           "Economics"
          ],
          [
           "Fantasy"
          ],
          [
           "Fiction"
          ],
          [
           "Math"
          ],
          [
           "Music"
          ],
          [
           "Philosophy"
          ],
          [
           "Physics"
          ],
          [
           "Psychology"
          ],
          [
           "Science fiction"
          ],
          [
           "Self improvement"
          ]
         ],
         "domain": {
          "x": [
           0,
           1
          ],
          "y": [
           0,
           1
          ]
         },
         "hovertemplate": "labels=%{label}<br>Evaluation=%{value}<br>parent=%{parent}<br>id=%{id}<br>Category=%{customdata[0]}<extra></extra>",
         "ids": [
          "Philosophy/Miscellanea/Hagakure",
          "Chess/Training/Training with Moska",
          "Fantasy/Miscellanea/Harry Potter e il principe mezzosangue",
          "Physics/Scientific outreach/La strada che porta alla realtà",
          "Fiction/Classic/Lo strano caso del dottor Jekyll e del signor Hyde",
          "Chess/Classic/Garry Kasparov on My Great Predecessors I",
          "Chess/Classic/Garry Kasparov on My Great Predecessors II",
          "Chess/Classic/Garry Kasparov on My Great Predecessors III",
          "Fiction/Miscellanea/Le intermittenze della morte",
          "Chess/Classic/Garry Kasparov on My Great Predecessors V",
          "Fantasy/Miscellanea/Le due torri. Il Signore degli anelli",
          "Chess/Miscellanea/Game Changer",
          "Philosophy/Classic/Lo zen e il tiro con l'arco",
          "Physics/Scientific outreach/L'universo elegante",
          "Adventure/Classic/L'isola del tesoro",
          "Psychology/Classic/L'interpretazione dei sogni",
          "Philosophy/Miscellanea/L'evoluzione del denaro",
          "Chess/Opening/Keep it Simple: 1.e4",
          "Fiction/Miscellanea/ZeroZeroZero",
          "Coding/Classic/Il pragmatic programmer",
          "Science fiction/Miscellanea/La rifondazione di Dune",
          "Fantasy/Miscellanea/Eragon",
          "Chess/Training/Il mio sistema",
          "Fiction/Classic/Elementare, Watson!",
          "Science fiction/Miscellanea/Ubik",
          "Science fiction/Classic/Ventimila leghe sotto i mari",
          "Chess/Miscellanea/The KGB Plays Chess",
          "Fiction/Miscellanea/Scuola di fantasia",
          "Chess/Biography/Emanuel Lasker",
          "Physics/Scientific outreach/Qed",
          "Coding/Python/Python Crash Course, 3rd Edition",
          "Chess/Opening/Understanding Maroczy Structures",
          "Science fiction/Classic/Viaggio al centro della terra",
          "Psychology/Classic/Nudge. La spinta gentile.",
          "Science fiction/Miscellanea/Dalla terra alla luna",
          "Chess/Training/Logica scacchistica vincente",
          "Coding/C++/Design Patterns in Modern C++",
          "Chess/Training/Difesa e contrattacco",
          "Science fiction/Miscellanea/Dune. Il ciclo di Dune",
          "Chess/Opening/Vincere con la partita italiana",
          "Fantasy/Miscellanea/Eldest",
          "Fiction/Miscellanea/Origin",
          "Fiction/Classic/Utopia",
          "Chess/Opening/Keep It Simple for Black",
          "Fiction/Miscellanea/La mucca viola",
          "Physics/Scientific outreach/L'ordine del tempo",
          "Fantasy/Miscellanea/La caduta di Gondolin",
          "Chess/Training/Pattern scacchistici. I fondamentali",
          "Fiction/Miscellanea/Il pendolo di Foucault",
          "Science fiction/Miscellanea/L'imperatore-dio di Dune",
          "Chess/Miscellanea/500 Chess Questions Answered",
          "Chess/Training/Échecs, le test",
          "Self improvement/Miscellanea/Atomic Habits",
          "Chess/Opening/Kaufman's New Repertoire for Black and White",
          "Adventure/Classic/Moby Dick",
          "Chess/Biography/La mia carriera scacchistica",
          "Fantasy/Miscellanea/La compagnia dell'anello",
          "Chess/Opening/Conoscere la Réti",
          "Chess/Opening/Chess Openings for Black",
          "Psychology/Game theory/Calcoli morali",
          "Psychology/Classic/Pensieri lenti e veloci",
          "Coding/C++/C++ Software Design",
          "Coding/C++/C++ Crash Course",
          "Coding/C#/C# 10 and .NET 6",
          "Coding/Machine learning/Deep Reinforcement Learning Hands-On",
          "Chess/Games/Botvinnik-Tal 1960",
          "Chess/Opening/B3 Attacco NimzoLarsen",
          "Coding/C++/Beautiful C++",
          "Chess/Endgames/Blindfold Endgame Visualization",
          "Fantasy/Miscellanea/Brisingr",
          "Chess/Training/The Secret Ingredient",
          "Chess/Opening/Blindfold Opening Visualization: 100 Chess Puzzles",
          "Chess/Miscellanea/Un secolo di scacchi",
          "Music/Miscellanea/Parliamo di musica",
          "Chess/Biography/Tal: Move by Move",
          "Chess/Opening/The Sicilian Sveshnikov",
          "Self improvement/Miscellanea/Principles",
          "Fantasy/Miscellanea/Racconti Incompiuti",
          "Chess/Training/The Complete Chess Swindler",
          "Fantasy/Miscellanea/Lo Hobbit annotato",
          "Chess/Classic/The Art of Attack in Chess",
          "Science fiction/Classic/Guida galattica per gli autostoppisti",
          "Chess/Endgames/Il libro completo dei finali",
          "Fantasy/Miscellanea/Harry Potter e il calice di fuoco",
          "Science fiction/Miscellanea/I figli di Dune",
          "Philosophy/Scientific outreach/I Am a Strange Loop",
          "Fiction/Classic/Il giocatore",
          "Chess/Opening/Il controgambetto Albin",
          "Fantasy/Miscellanea/Harry Potter e la pietra filosofale",
          "Fantasy/Miscellanea/Harry Potter e l'Ordine della Fenice",
          "Fiction/Chess/L'ultima traversa",
          "Fantasy/Miscellanea/Harry Potter e il prigioniero di Azkaban",
          "Philosophy/Scientific outreach/I limiti della razionalità",
          "Math/Scientific outreach/Gödel, Escher, Bach",
          "Fiction/Miscellanea/Flatlandia",
          "Chess/Classic/Garry Kasparov on My Great Predecessors IV",
          "Adventure/Classic/Il Corsaro Nero",
          "Fiction/Coding/The Phoenix Project",
          "Self improvement/Coding/Soft Skills",
          "Fiction/Miscellanea/Sherlock Holmes: Uno Studio in Rosso",
          "Chess/Games/Sessanta partite da ricordare",
          "Coding/C#/Learn C# in One Day and Learn It Well",
          "Chess/Opening/Semi-Slav",
          "Fantasy/Miscellanea/Il Silmarillion",
          "Coding/C++/Template Metaprogramming with C++",
          "Fiction/Scientific outreach/Incontri con menti straordinarie",
          "Philosophy/Miscellanea/Homo ludens",
          "Fantasy/Miscellanea/Harry Potter e la camera dei segreti",
          "Fiction/Miscellanea/Gang bang",
          "Chess/Biography/Autobiografia in bianco e nero",
          "Fiction/Chess/La novella degli scacchi",
          "Science fiction/Miscellanea/Messia di Dune",
          "Math/Miscellanea/The Rating of Chess Players, Past and Present",
          "Economics/Miscellanea/Il metodo Warren Buffett",
          "Physics/Scientific outreach/Il minimo teorico",
          "Science fiction/Chess/Il gioco degli dèi",
          "Fantasy/Miscellanea/Il ritorno del re",
          "Fiction/Classic/Il signore delle mosche",
          "Fiction/Classic/Se questo è un uomo",
          "Adventure/Miscellanea/Il volo del calabrone",
          "Math/Miscellanea/Introduzione all'analisi degli errori",
          "Fantasy/Miscellanea/Harry Potter e i Doni della Morte",
          "Fiction/Miscellanea/Jolly Roger",
          "Fiction/Classic/Il ritratto di Dorian Gray",
          "Science fiction/Miscellanea/Gli eretici di Dune",
          "Fantasy/Miscellanea/Il quidditch attraverso i secoli",
          "Chess/Training/Manuale degli scacchi",
          "Physics/Miscellanea/Particelle e interazioni fondamentali",
          "Chess/Biography",
          "Coding/C#",
          "Coding/C++",
          "Fiction/Chess",
          "Science fiction/Chess",
          "Adventure/Classic",
          "Chess/Classic",
          "Coding/Classic",
          "Fiction/Classic",
          "Philosophy/Classic",
          "Psychology/Classic",
          "Science fiction/Classic",
          "Fiction/Coding",
          "Self improvement/Coding",
          "Chess/Endgames",
          "Psychology/Game theory",
          "Chess/Games",
          "Coding/Machine learning",
          "Adventure/Miscellanea",
          "Chess/Miscellanea",
          "Economics/Miscellanea",
          "Fantasy/Miscellanea",
          "Fiction/Miscellanea",
          "Math/Miscellanea",
          "Music/Miscellanea",
          "Philosophy/Miscellanea",
          "Physics/Miscellanea",
          "Science fiction/Miscellanea",
          "Self improvement/Miscellanea",
          "Chess/Opening",
          "Coding/Python",
          "Fiction/Scientific outreach",
          "Math/Scientific outreach",
          "Philosophy/Scientific outreach",
          "Physics/Scientific outreach",
          "Chess/Training",
          "Adventure",
          "Chess",
          "Coding",
          "Economics",
          "Fantasy",
          "Fiction",
          "Math",
          "Music",
          "Philosophy",
          "Physics",
          "Psychology",
          "Science fiction",
          "Self improvement"
         ],
         "labels": [
          "Hagakure",
          "Training with Moska",
          "Harry Potter e il principe mezzosangue",
          "La strada che porta alla realtà",
          "Lo strano caso del dottor Jekyll e del signor Hyde",
          "Garry Kasparov on My Great Predecessors I",
          "Garry Kasparov on My Great Predecessors II",
          "Garry Kasparov on My Great Predecessors III",
          "Le intermittenze della morte",
          "Garry Kasparov on My Great Predecessors V",
          "Le due torri. Il Signore degli anelli",
          "Game Changer",
          "Lo zen e il tiro con l'arco",
          "L'universo elegante",
          "L'isola del tesoro",
          "L'interpretazione dei sogni",
          "L'evoluzione del denaro",
          "Keep it Simple: 1.e4",
          "ZeroZeroZero",
          "Il pragmatic programmer",
          "La rifondazione di Dune",
          "Eragon",
          "Il mio sistema",
          "Elementare, Watson!",
          "Ubik",
          "Ventimila leghe sotto i mari",
          "The KGB Plays Chess",
          "Scuola di fantasia",
          "Emanuel Lasker",
          "Qed",
          "Python Crash Course, 3rd Edition",
          "Understanding Maroczy Structures",
          "Viaggio al centro della terra",
          "Nudge. La spinta gentile.",
          "Dalla terra alla luna",
          "Logica scacchistica vincente",
          "Design Patterns in Modern C++",
          "Difesa e contrattacco",
          "Dune. Il ciclo di Dune",
          "Vincere con la partita italiana",
          "Eldest",
          "Origin",
          "Utopia",
          "Keep It Simple for Black",
          "La mucca viola",
          "L'ordine del tempo",
          "La caduta di Gondolin",
          "Pattern scacchistici. I fondamentali",
          "Il pendolo di Foucault",
          "L'imperatore-dio di Dune",
          "500 Chess Questions Answered",
          "Échecs, le test",
          "Atomic Habits",
          "Kaufman's New Repertoire for Black and White",
          "Moby Dick",
          "La mia carriera scacchistica",
          "La compagnia dell'anello",
          "Conoscere la Réti",
          "Chess Openings for Black",
          "Calcoli morali",
          "Pensieri lenti e veloci",
          "C++ Software Design",
          "C++ Crash Course",
          "C# 10 and .NET 6",
          "Deep Reinforcement Learning Hands-On",
          "Botvinnik-Tal 1960",
          "B3 Attacco NimzoLarsen",
          "Beautiful C++",
          "Blindfold Endgame Visualization",
          "Brisingr",
          "The Secret Ingredient",
          "Blindfold Opening Visualization: 100 Chess Puzzles",
          "Un secolo di scacchi",
          "Parliamo di musica",
          "Tal: Move by Move",
          "The Sicilian Sveshnikov",
          "Principles",
          "Racconti Incompiuti",
          "The Complete Chess Swindler",
          "Lo Hobbit annotato",
          "The Art of Attack in Chess",
          "Guida galattica per gli autostoppisti",
          "Il libro completo dei finali",
          "Harry Potter e il calice di fuoco",
          "I figli di Dune",
          "I Am a Strange Loop",
          "Il giocatore",
          "Il controgambetto Albin",
          "Harry Potter e la pietra filosofale",
          "Harry Potter e l'Ordine della Fenice",
          "L'ultima traversa",
          "Harry Potter e il prigioniero di Azkaban",
          "I limiti della razionalità",
          "Gödel, Escher, Bach",
          "Flatlandia",
          "Garry Kasparov on My Great Predecessors IV",
          "Il Corsaro Nero",
          "The Phoenix Project",
          "Soft Skills",
          "Sherlock Holmes: Uno Studio in Rosso",
          "Sessanta partite da ricordare",
          "Learn C# in One Day and Learn It Well",
          "Semi-Slav",
          "Il Silmarillion",
          "Template Metaprogramming with C++",
          "Incontri con menti straordinarie",
          "Homo ludens",
          "Harry Potter e la camera dei segreti",
          "Gang bang",
          "Autobiografia in bianco e nero",
          "La novella degli scacchi",
          "Messia di Dune",
          "The Rating of Chess Players, Past and Present",
          "Il metodo Warren Buffett",
          "Il minimo teorico",
          "Il gioco degli dèi",
          "Il ritorno del re",
          "Il signore delle mosche",
          "Se questo è un uomo",
          "Il volo del calabrone",
          "Introduzione all'analisi degli errori",
          "Harry Potter e i Doni della Morte",
          "Jolly Roger",
          "Il ritratto di Dorian Gray",
          "Gli eretici di Dune",
          "Il quidditch attraverso i secoli",
          "Manuale degli scacchi",
          "Particelle e interazioni fondamentali",
          "Biography",
          "C#",
          "C++",
          "Chess",
          "Chess",
          "Classic",
          "Classic",
          "Classic",
          "Classic",
          "Classic",
          "Classic",
          "Classic",
          "Coding",
          "Coding",
          "Endgames",
          "Game theory",
          "Games",
          "Machine learning",
          "Miscellanea",
          "Miscellanea",
          "Miscellanea",
          "Miscellanea",
          "Miscellanea",
          "Miscellanea",
          "Miscellanea",
          "Miscellanea",
          "Miscellanea",
          "Miscellanea",
          "Miscellanea",
          "Opening",
          "Python",
          "Scientific outreach",
          "Scientific outreach",
          "Scientific outreach",
          "Scientific outreach",
          "Training",
          "Adventure",
          "Chess",
          "Coding",
          "Economics",
          "Fantasy",
          "Fiction",
          "Math",
          "Music",
          "Philosophy",
          "Physics",
          "Psychology",
          "Science fiction",
          "Self improvement"
         ],
         "marker": {
          "colors": [
           "#00CC96",
           "#AB63FA",
           "#00CC96",
           "#19D3F3",
           "#B6E880",
           "#AB63FA",
           "#AB63FA",
           "#AB63FA",
           "#B6E880",
           "#AB63FA",
           "#00CC96",
           "#AB63FA",
           "#00CC96",
           "#19D3F3",
           "#FF97FF",
           "#EF553B",
           "#00CC96",
           "#AB63FA",
           "#B6E880",
           "#636EFA",
           "#FF6692",
           "#00CC96",
           "#AB63FA",
           "#B6E880",
           "#FF6692",
           "#FF6692",
           "#AB63FA",
           "#B6E880",
           "#AB63FA",
           "#19D3F3",
           "#636EFA",
           "#AB63FA",
           "#FF6692",
           "#EF553B",
           "#FF6692",
           "#AB63FA",
           "#636EFA",
           "#AB63FA",
           "#FF6692",
           "#AB63FA",
           "#00CC96",
           "#B6E880",
           "#B6E880",
           "#AB63FA",
           "#B6E880",
           "#19D3F3",
           "#00CC96",
           "#AB63FA",
           "#B6E880",
           "#FF6692",
           "#AB63FA",
           "#AB63FA",
           "#636EFA",
           "#AB63FA",
           "#FF97FF",
           "#AB63FA",
           "#00CC96",
           "#AB63FA",
           "#AB63FA",
           "#EF553B",
           "#EF553B",
           "#636EFA",
           "#636EFA",
           "#636EFA",
           "#636EFA",
           "#AB63FA",
           "#AB63FA",
           "#636EFA",
           "#AB63FA",
           "#00CC96",
           "#AB63FA",
           "#AB63FA",
           "#AB63FA",
           "#FECB52",
           "#AB63FA",
           "#AB63FA",
           "#636EFA",
           "#00CC96",
           "#AB63FA",
           "#00CC96",
           "#AB63FA",
           "#FF6692",
           "#AB63FA",
           "#00CC96",
           "#FF6692",
           "#00CC96",
           "#B6E880",
           "#AB63FA",
           "#00CC96",
           "#00CC96",
           "#B6E880",
           "#00CC96",
           "#00CC96",
           "#FFA15A",
           "#B6E880",
           "#AB63FA",
           "#FF97FF",
           "#B6E880",
           "#636EFA",
           "#B6E880",
           "#AB63FA",
           "#636EFA",
           "#AB63FA",
           "#00CC96",
           "#636EFA",
           "#B6E880",
           "#00CC96",
           "#00CC96",
           "#B6E880",
           "#AB63FA",
           "#B6E880",
           "#FF6692",
           "#FFA15A",
           "#EF553B",
           "#19D3F3",
           "#FF6692",
           "#00CC96",
           "#B6E880",
           "#B6E880",
           "#FF97FF",
           "#FFA15A",
           "#00CC96",
           "#B6E880",
           "#B6E880",
           "#FF6692",
           "#00CC96",
           "#AB63FA",
           "#19D3F3",
           "#AB63FA",
           "#636EFA",
           "#636EFA",
           "#B6E880",
           "#FF6692",
           "#FF97FF",
           "#AB63FA",
           "#636EFA",
           "#B6E880",
           "#00CC96",
           "#EF553B",
           "#FF6692",
           "#B6E880",
           "#636EFA",
           "#AB63FA",
           "#EF553B",
           "#AB63FA",
           "#636EFA",
           "#FF97FF",
           "#AB63FA",
           "#EF553B",
           "#00CC96",
           "#B6E880",
           "#FFA15A",
           "#FECB52",
           "#00CC96",
           "#19D3F3",
           "#FF6692",
           "#636EFA",
           "#AB63FA",
           "#636EFA",
           "#B6E880",
           "#FFA15A",
           "#00CC96",
           "#19D3F3",
           "#AB63FA",
           "#FF97FF",
           "#AB63FA",
           "#636EFA",
           "#EF553B",
           "#00CC96",
           "#B6E880",
           "#FFA15A",
           "#FECB52",
           "#00CC96",
           "#19D3F3",
           "#EF553B",
           "#FF6692",
           "#636EFA"
          ],
          "cornerradius": 5
         },
         "maxdepth": 2,
         "name": "",
         "parents": [
          "Philosophy/Miscellanea",
          "Chess/Training",
          "Fantasy/Miscellanea",
          "Physics/Scientific outreach",
          "Fiction/Classic",
          "Chess/Classic",
          "Chess/Classic",
          "Chess/Classic",
          "Fiction/Miscellanea",
          "Chess/Classic",
          "Fantasy/Miscellanea",
          "Chess/Miscellanea",
          "Philosophy/Classic",
          "Physics/Scientific outreach",
          "Adventure/Classic",
          "Psychology/Classic",
          "Philosophy/Miscellanea",
          "Chess/Opening",
          "Fiction/Miscellanea",
          "Coding/Classic",
          "Science fiction/Miscellanea",
          "Fantasy/Miscellanea",
          "Chess/Training",
          "Fiction/Classic",
          "Science fiction/Miscellanea",
          "Science fiction/Classic",
          "Chess/Miscellanea",
          "Fiction/Miscellanea",
          "Chess/Biography",
          "Physics/Scientific outreach",
          "Coding/Python",
          "Chess/Opening",
          "Science fiction/Classic",
          "Psychology/Classic",
          "Science fiction/Miscellanea",
          "Chess/Training",
          "Coding/C++",
          "Chess/Training",
          "Science fiction/Miscellanea",
          "Chess/Opening",
          "Fantasy/Miscellanea",
          "Fiction/Miscellanea",
          "Fiction/Classic",
          "Chess/Opening",
          "Fiction/Miscellanea",
          "Physics/Scientific outreach",
          "Fantasy/Miscellanea",
          "Chess/Training",
          "Fiction/Miscellanea",
          "Science fiction/Miscellanea",
          "Chess/Miscellanea",
          "Chess/Training",
          "Self improvement/Miscellanea",
          "Chess/Opening",
          "Adventure/Classic",
          "Chess/Biography",
          "Fantasy/Miscellanea",
          "Chess/Opening",
          "Chess/Opening",
          "Psychology/Game theory",
          "Psychology/Classic",
          "Coding/C++",
          "Coding/C++",
          "Coding/C#",
          "Coding/Machine learning",
          "Chess/Games",
          "Chess/Opening",
          "Coding/C++",
          "Chess/Endgames",
          "Fantasy/Miscellanea",
          "Chess/Training",
          "Chess/Opening",
          "Chess/Miscellanea",
          "Music/Miscellanea",
          "Chess/Biography",
          "Chess/Opening",
          "Self improvement/Miscellanea",
          "Fantasy/Miscellanea",
          "Chess/Training",
          "Fantasy/Miscellanea",
          "Chess/Classic",
          "Science fiction/Classic",
          "Chess/Endgames",
          "Fantasy/Miscellanea",
          "Science fiction/Miscellanea",
          "Philosophy/Scientific outreach",
          "Fiction/Classic",
          "Chess/Opening",
          "Fantasy/Miscellanea",
          "Fantasy/Miscellanea",
          "Fiction/Chess",
          "Fantasy/Miscellanea",
          "Philosophy/Scientific outreach",
          "Math/Scientific outreach",
          "Fiction/Miscellanea",
          "Chess/Classic",
          "Adventure/Classic",
          "Fiction/Coding",
          "Self improvement/Coding",
          "Fiction/Miscellanea",
          "Chess/Games",
          "Coding/C#",
          "Chess/Opening",
          "Fantasy/Miscellanea",
          "Coding/C++",
          "Fiction/Scientific outreach",
          "Philosophy/Miscellanea",
          "Fantasy/Miscellanea",
          "Fiction/Miscellanea",
          "Chess/Biography",
          "Fiction/Chess",
          "Science fiction/Miscellanea",
          "Math/Miscellanea",
          "Economics/Miscellanea",
          "Physics/Scientific outreach",
          "Science fiction/Chess",
          "Fantasy/Miscellanea",
          "Fiction/Classic",
          "Fiction/Classic",
          "Adventure/Miscellanea",
          "Math/Miscellanea",
          "Fantasy/Miscellanea",
          "Fiction/Miscellanea",
          "Fiction/Classic",
          "Science fiction/Miscellanea",
          "Fantasy/Miscellanea",
          "Chess/Training",
          "Physics/Miscellanea",
          "Chess",
          "Coding",
          "Coding",
          "Fiction",
          "Science fiction",
          "Adventure",
          "Chess",
          "Coding",
          "Fiction",
          "Philosophy",
          "Psychology",
          "Science fiction",
          "Fiction",
          "Self improvement",
          "Chess",
          "Psychology",
          "Chess",
          "Coding",
          "Adventure",
          "Chess",
          "Economics",
          "Fantasy",
          "Fiction",
          "Math",
          "Music",
          "Philosophy",
          "Physics",
          "Science fiction",
          "Self improvement",
          "Chess",
          "Coding",
          "Fiction",
          "Math",
          "Philosophy",
          "Physics",
          "Chess",
          "",
          "",
          "",
          "",
          "",
          "",
          "",
          "",
          "",
          "",
          "",
          "",
          ""
         ],
         "type": "treemap",
         "values": [
          0,
          0,
          8.5,
          5,
          5.5,
          8,
          6,
          5.5,
          7,
          6.5,
          8.5,
          0,
          7,
          6.5,
          5.5,
          0,
          0,
          6.5,
          6,
          8.5,
          3.5,
          6.5,
          3,
          0,
          6.5,
          4.5,
          0,
          0,
          4,
          6,
          4,
          0,
          6,
          9,
          8.5,
          4.5,
          6,
          0,
          7.5,
          0,
          7,
          4.5,
          4.5,
          7,
          0,
          7,
          0,
          0,
          3,
          6.5,
          6,
          0,
          8,
          0,
          0,
          4,
          9.5,
          5.5,
          6.5,
          7.5,
          8.5,
          0,
          8,
          4,
          0,
          8,
          4,
          8,
          0,
          0,
          6,
          5,
          5,
          7.5,
          4.5,
          4,
          4.5,
          6,
          0,
          7.5,
          0,
          0,
          7.5,
          7,
          4.5,
          0,
          0,
          3.5,
          8,
          6,
          4,
          8,
          0,
          9.5,
          8,
          5,
          6,
          8,
          0,
          5,
          5.5,
          4.5,
          6,
          7,
          6,
          0,
          0,
          7,
          0,
          8.5,
          6,
          6,
          3,
          7,
          0,
          5,
          7,
          6,
          6.5,
          6.5,
          7.5,
          6,
          0,
          6.5,
          4,
          6,
          7.5,
          8,
          21,
          8.5,
          28,
          10,
          5,
          11.5,
          31,
          8.5,
          29,
          7,
          17.5,
          10.5,
          8,
          0,
          7.5,
          7.5,
          13.5,
          0,
          6.5,
          11,
          7,
          115.5,
          33.5,
          10.5,
          7.5,
          0,
          8,
          47,
          12.5,
          48,
          4,
          0,
          9.5,
          0,
          24.5,
          21,
          18,
          153,
          49,
          7,
          115.5,
          80.5,
          20,
          7.5,
          7,
          32.5,
          25,
          62.5,
          12.5
         ]
        }
       ],
       "layout": {
        "legend": {
         "tracegroupgap": 0
        },
        "margin": {
         "t": 60
        },
        "template": {
         "data": {
          "pie": [
           {
            "automargin": true,
            "type": "pie"
           }
          ]
         },
         "layout": {
          "xaxis": {
           "showgrid": true,
           "title": {
            "standoff": 15
           }
          },
          "yaxis": {
           "showgrid": true,
           "title": {
            "standoff": 15
           }
          }
         }
        }
       }
      }
     },
     "metadata": {},
     "output_type": "display_data"
    }
   ],
   "source": [
    "color_discrete_map = {category: px.colors.qualitative.Plotly[i % len(px.colors.qualitative.Plotly)]\n",
    "                      for i, category in enumerate(df['Category'].unique())}\n",
    "\n",
    "\n",
    "fig = px.treemap(df, \n",
    "                 path=['Category', 'Sub-Category', 'Title'],  # Utilizza 'Category' come macro-categoria e 'Sub-Category' come sotto-categoria\n",
    "                 values='Evaluation',  # Valori da rappresentare nel treemap\n",
    "                 color='Category',  # Colore basato sulla colonna 'Status'\n",
    "                 color_discrete_map=color_discrete_map,\n",
    "                 maxdepth=2,\n",
    "                 title='')  # Titolo del grafico\n",
    "\n",
    "fig.update_traces(marker=dict(cornerradius=5))\n",
    "\n",
    "# Mostra il treemap\n",
    "fig.show()"
   ]
  },
  {
   "cell_type": "code",
   "execution_count": 10,
   "id": "853c7908",
   "metadata": {},
   "outputs": [
    {
     "data": {
      "text/html": [
       "<div>\n",
       "<style scoped>\n",
       "    .dataframe tbody tr th:only-of-type {\n",
       "        vertical-align: middle;\n",
       "    }\n",
       "\n",
       "    .dataframe tbody tr th {\n",
       "        vertical-align: top;\n",
       "    }\n",
       "\n",
       "    .dataframe thead th {\n",
       "        text-align: right;\n",
       "    }\n",
       "</style>\n",
       "<table border=\"1\" class=\"dataframe\">\n",
       "  <thead>\n",
       "    <tr style=\"text-align: right;\">\n",
       "      <th></th>\n",
       "      <th>Evaluation</th>\n",
       "      <th>Status</th>\n",
       "      <th>Title</th>\n",
       "      <th>Authors</th>\n",
       "      <th>Start</th>\n",
       "      <th>End</th>\n",
       "      <th>Type</th>\n",
       "      <th>Category</th>\n",
       "      <th>Sub-Category</th>\n",
       "      <th>Series</th>\n",
       "      <th>Language</th>\n",
       "    </tr>\n",
       "  </thead>\n",
       "  <tbody>\n",
       "    <tr>\n",
       "      <th>0</th>\n",
       "      <td>8.0</td>\n",
       "      <td>Read</td>\n",
       "      <td>C++ Crash Course</td>\n",
       "      <td>Lospinoso,Josh</td>\n",
       "      <td>NaT</td>\n",
       "      <td>NaT</td>\n",
       "      <td>ebook</td>\n",
       "      <td>Coding</td>\n",
       "      <td>C++</td>\n",
       "      <td>NaN</td>\n",
       "      <td>en</td>\n",
       "    </tr>\n",
       "    <tr>\n",
       "      <th>1</th>\n",
       "      <td>8.0</td>\n",
       "      <td>Read</td>\n",
       "      <td>Beautiful C++</td>\n",
       "      <td>Davidson,J.;Gregory,Kate</td>\n",
       "      <td>NaT</td>\n",
       "      <td>NaT</td>\n",
       "      <td>ebook</td>\n",
       "      <td>Coding</td>\n",
       "      <td>C++</td>\n",
       "      <td>NaN</td>\n",
       "      <td>en</td>\n",
       "    </tr>\n",
       "    <tr>\n",
       "      <th>2</th>\n",
       "      <td>7.5</td>\n",
       "      <td>Read</td>\n",
       "      <td>Calcoli morali</td>\n",
       "      <td>Mérö,László</td>\n",
       "      <td>NaT</td>\n",
       "      <td>NaT</td>\n",
       "      <td>paper</td>\n",
       "      <td>Psychology</td>\n",
       "      <td>Game theory</td>\n",
       "      <td>NaN</td>\n",
       "      <td>it</td>\n",
       "    </tr>\n",
       "  </tbody>\n",
       "</table>\n",
       "</div>"
      ],
      "text/plain": [
       "   Evaluation Status             Title                   Authors Start End  \\\n",
       "0         8.0   Read  C++ Crash Course            Lospinoso,Josh   NaT NaT   \n",
       "1         8.0   Read     Beautiful C++  Davidson,J.;Gregory,Kate   NaT NaT   \n",
       "2         7.5   Read    Calcoli morali               Mérö,László   NaT NaT   \n",
       "\n",
       "    Type    Category Sub-Category Series Language  \n",
       "0  ebook      Coding          C++    NaN       en  \n",
       "1  ebook      Coding          C++    NaN       en  \n",
       "2  paper  Psychology  Game theory    NaN       it  "
      ]
     },
     "execution_count": 10,
     "metadata": {},
     "output_type": "execute_result"
    }
   ],
   "source": [
    "df.head(3)"
   ]
  },
  {
   "cell_type": "code",
   "execution_count": 14,
   "id": "1e324bb8",
   "metadata": {},
   "outputs": [
    {
     "data": {
      "application/vnd.plotly.v1+json": {
       "config": {
        "plotlyServerURL": "https://plot.ly"
       },
       "data": [
        {
         "branchvalues": "total",
         "customdata": [
          [
           6
          ],
          [
           8
          ],
          [
           8.5
          ],
          [
           4
          ],
          [
           8
          ],
          [
           8
          ],
          [
           8
          ],
          [
           7.5
          ],
          [
           6.5
          ],
          [
           5.5
          ],
          [
           8.5
          ],
          [
           6
          ],
          [
           7.5
          ],
          [
           7
          ],
          [
           6.5
          ],
          [
           8
          ],
          [
           8
          ],
          [
           6
          ],
          [
           5.5
          ],
          [
           5
          ],
          [
           6.5
          ],
          [
           4
          ],
          [
           9.5
          ],
          [
           6
          ],
          [
           7
          ],
          [
           8
          ],
          [
           8.5
          ],
          [
           6
          ],
          [
           7
          ],
          [
           8
          ],
          [
           4.5
          ],
          [
           6
          ],
          [
           7
          ],
          [
           3.5
          ],
          [
           5
          ],
          [
           7.5
          ],
          [
           7
          ],
          [
           3
          ],
          [
           8.5
          ],
          [
           6
          ],
          [
           7
          ],
          [
           6.5
          ],
          [
           6
          ],
          [
           6.5
          ],
          [
           7.5
          ],
          [
           7
          ],
          [
           6.5
          ],
          [
           6.5
          ],
          [
           5.5
          ],
          [
           7
          ],
          [
           4
          ],
          [
           6.5
          ],
          [
           9.5
          ],
          [
           6
          ],
          [
           3.5
          ],
          [
           5
          ],
          [
           8.5
          ],
          [
           7
          ],
          [
           4.5
          ],
          [
           7.5
          ],
          [
           5.5
          ],
          [
           7
          ],
          [
           4.5
          ],
          [
           7.5
          ],
          [
           6
          ],
          [
           9
          ],
          [
           4.5
          ],
          [
           7.5
          ],
          [
           8
          ],
          [
           8.5
          ],
          [
           4.5
          ],
          [
           4
          ],
          [
           6
          ],
          [
           6
          ],
          [
           6.5
          ],
          [
           6
          ],
          [
           5.5
          ],
          [
           5
          ],
          [
           4.5
          ],
          [
           8
          ],
          [
           3
          ],
          [
           6
          ],
          [
           4
          ],
          [
           6.5
          ],
          [
           4.5
          ],
          [
           4.5
          ],
          [
           6
          ],
          [
           6
          ],
          [
           7.115384615384615
          ],
          [
           4.5
          ],
          [
           7.454545454545454
          ],
          [
           5.2
          ],
          [
           5
          ],
          [
           5.760869565217392
          ],
          [
           6.370967741935484
          ],
          [
           8.5
          ],
          [
           5.896551724137931
          ],
          [
           7
          ],
          [
           8.757142857142858
          ],
          [
           5.357142857142857
          ],
          [
           8
          ],
          [
           7.5
          ],
          [
           7.5
          ],
          [
           6.981481481481482
          ],
          [
           6.5
          ],
          [
           6
          ],
          [
           7
          ],
          [
           7.361471861471862
          ],
          [
           6.368852459016393
          ],
          [
           6.214285714285714
          ],
          [
           7.5
          ],
          [
           8
          ],
          [
           6.329787234042553
          ],
          [
           6.74
          ],
          [
           5.674418604651163
          ],
          [
           4
          ],
          [
           9.5
          ],
          [
           6.214285714285714
          ],
          [
           5.785714285714286
          ],
          [
           6.027777777777778
          ],
          [
           6.237037037037037
          ],
          [
           6.987179487179487
          ],
          [
           7
          ],
          [
           7.361471861471862
          ],
          [
           6.209677419354839
          ],
          [
           7.775
          ],
          [
           7.5
          ],
          [
           7
          ],
          [
           6.653846153846154
          ],
          [
           8.38
          ],
          [
           6.06
          ],
          [
           6.74
          ]
         ],
         "domain": {
          "x": [
           0,
           1
          ],
          "y": [
           0,
           1
          ]
         },
         "hovertemplate": "labels=%{label}<br>Evaluation_sum=%{value}<br>parent=%{parent}<br>id=%{id}<br>Evaluation=%{color}<extra></extra>",
         "ids": [
          "Chess/Miscellanea/500 Chess Questions Answered",
          "Self improvement/Miscellanea/Atomic Habits",
          "Chess/Biography/Autobiografia in bianco e nero",
          "Chess/Opening/B3 Attacco NimzoLarsen",
          "Coding/C++/Beautiful C++",
          "Chess/Games/Botvinnik-Tal 1960",
          "Coding/C++/C++ Crash Course",
          "Psychology/Game theory/Calcoli morali",
          "Chess/Opening/Chess Openings for Black",
          "Chess/Opening/Conoscere la Réti",
          "Science fiction/Miscellanea/Dalla terra alla luna",
          "Coding/C++/Design Patterns in Modern C++",
          "Science fiction/Miscellanea/Dune. Il ciclo di Dune",
          "Fantasy/Miscellanea/Eldest",
          "Fantasy/Miscellanea/Eragon",
          "Fiction/Miscellanea/Flatlandia",
          "Chess/Classic/Garry Kasparov on My Great Predecessors I",
          "Chess/Classic/Garry Kasparov on My Great Predecessors II",
          "Chess/Classic/Garry Kasparov on My Great Predecessors III",
          "Chess/Classic/Garry Kasparov on My Great Predecessors IV",
          "Chess/Classic/Garry Kasparov on My Great Predecessors V",
          "Science fiction/Miscellanea/Gli eretici di Dune",
          "Math/Scientific outreach/Gödel, Escher, Bach",
          "Fantasy/Miscellanea/Harry Potter e i Doni della Morte",
          "Fantasy/Miscellanea/Harry Potter e il calice di fuoco",
          "Fantasy/Miscellanea/Harry Potter e il prigioniero di Azkaban",
          "Fantasy/Miscellanea/Harry Potter e il principe mezzosangue",
          "Fantasy/Miscellanea/Harry Potter e l'Ordine della Fenice",
          "Fantasy/Miscellanea/Harry Potter e la camera dei segreti",
          "Fantasy/Miscellanea/Harry Potter e la pietra filosofale",
          "Science fiction/Miscellanea/I figli di Dune",
          "Adventure/Classic/Il Corsaro Nero",
          "Fantasy/Miscellanea/Il Silmarillion",
          "Chess/Opening/Il controgambetto Albin",
          "Science fiction/Chess/Il gioco degli dèi",
          "Chess/Endgames/Il libro completo dei finali",
          "Economics/Miscellanea/Il metodo Warren Buffett",
          "Chess/Training/Il mio sistema",
          "Coding/Classic/Il pragmatic programmer",
          "Fantasy/Miscellanea/Il quidditch attraverso i secoli",
          "Fantasy/Miscellanea/Il ritorno del re",
          "Fiction/Classic/Il ritratto di Dorian Gray",
          "Fiction/Classic/Il signore delle mosche",
          "Adventure/Miscellanea/Il volo del calabrone",
          "Math/Miscellanea/Introduzione all'analisi degli errori",
          "Chess/Opening/Keep It Simple for Black",
          "Chess/Opening/Keep it Simple: 1.e4",
          "Science fiction/Miscellanea/L'imperatore-dio di Dune",
          "Adventure/Classic/L'isola del tesoro",
          "Physics/Scientific outreach/L'ordine del tempo",
          "Fiction/Chess/L'ultima traversa",
          "Physics/Scientific outreach/L'universo elegante",
          "Fantasy/Miscellanea/La compagnia dell'anello",
          "Fiction/Chess/La novella degli scacchi",
          "Science fiction/Miscellanea/La rifondazione di Dune",
          "Physics/Scientific outreach/La strada che porta alla realtà",
          "Fantasy/Miscellanea/Le due torri. Il Signore degli anelli",
          "Fiction/Miscellanea/Le intermittenze della morte",
          "Coding/C#/Learn C# in One Day and Learn It Well",
          "Fantasy/Miscellanea/Lo Hobbit annotato",
          "Fiction/Classic/Lo strano caso del dottor Jekyll e del signor Hyde",
          "Philosophy/Classic/Lo zen e il tiro con l'arco",
          "Chess/Training/Logica scacchistica vincente",
          "Chess/Training/Manuale degli scacchi",
          "Science fiction/Miscellanea/Messia di Dune",
          "Psychology/Classic/Nudge. La spinta gentile.",
          "Fiction/Miscellanea/Origin",
          "Music/Miscellanea/Parliamo di musica",
          "Physics/Miscellanea/Particelle e interazioni fondamentali",
          "Psychology/Classic/Pensieri lenti e veloci",
          "Self improvement/Miscellanea/Principles",
          "Coding/Python/Python Crash Course, 3rd Edition",
          "Physics/Scientific outreach/Qed",
          "Fantasy/Miscellanea/Racconti Incompiuti",
          "Fiction/Classic/Se questo è un uomo",
          "Chess/Opening/Semi-Slav",
          "Chess/Games/Sessanta partite da ricordare",
          "Fiction/Miscellanea/Sherlock Holmes: Uno Studio in Rosso",
          "Chess/Biography/Tal: Move by Move",
          "Fiction/Coding/The Phoenix Project",
          "Math/Miscellanea/The Rating of Chess Players, Past and Present",
          "Chess/Training/The Secret Ingredient",
          "Chess/Opening/The Sicilian Sveshnikov",
          "Science fiction/Miscellanea/Ubik",
          "Fiction/Classic/Utopia",
          "Science fiction/Classic/Ventimila leghe sotto i mari",
          "Science fiction/Classic/Viaggio al centro della terra",
          "Fiction/Miscellanea/ZeroZeroZero",
          "Chess/Biography",
          "Coding/C#",
          "Coding/C++",
          "Fiction/Chess",
          "Science fiction/Chess",
          "Adventure/Classic",
          "Chess/Classic",
          "Coding/Classic",
          "Fiction/Classic",
          "Philosophy/Classic",
          "Psychology/Classic",
          "Science fiction/Classic",
          "Fiction/Coding",
          "Chess/Endgames",
          "Psychology/Game theory",
          "Chess/Games",
          "Adventure/Miscellanea",
          "Chess/Miscellanea",
          "Economics/Miscellanea",
          "Fantasy/Miscellanea",
          "Fiction/Miscellanea",
          "Math/Miscellanea",
          "Music/Miscellanea",
          "Physics/Miscellanea",
          "Science fiction/Miscellanea",
          "Self improvement/Miscellanea",
          "Chess/Opening",
          "Coding/Python",
          "Math/Scientific outreach",
          "Physics/Scientific outreach",
          "Chess/Training",
          "Adventure",
          "Chess",
          "Coding",
          "Economics",
          "Fantasy",
          "Fiction",
          "Math",
          "Music",
          "Philosophy",
          "Physics",
          "Psychology",
          "Science fiction",
          "Self improvement"
         ],
         "labels": [
          "500 Chess Questions Answered",
          "Atomic Habits",
          "Autobiografia in bianco e nero",
          "B3 Attacco NimzoLarsen",
          "Beautiful C++",
          "Botvinnik-Tal 1960",
          "C++ Crash Course",
          "Calcoli morali",
          "Chess Openings for Black",
          "Conoscere la Réti",
          "Dalla terra alla luna",
          "Design Patterns in Modern C++",
          "Dune. Il ciclo di Dune",
          "Eldest",
          "Eragon",
          "Flatlandia",
          "Garry Kasparov on My Great Predecessors I",
          "Garry Kasparov on My Great Predecessors II",
          "Garry Kasparov on My Great Predecessors III",
          "Garry Kasparov on My Great Predecessors IV",
          "Garry Kasparov on My Great Predecessors V",
          "Gli eretici di Dune",
          "Gödel, Escher, Bach",
          "Harry Potter e i Doni della Morte",
          "Harry Potter e il calice di fuoco",
          "Harry Potter e il prigioniero di Azkaban",
          "Harry Potter e il principe mezzosangue",
          "Harry Potter e l'Ordine della Fenice",
          "Harry Potter e la camera dei segreti",
          "Harry Potter e la pietra filosofale",
          "I figli di Dune",
          "Il Corsaro Nero",
          "Il Silmarillion",
          "Il controgambetto Albin",
          "Il gioco degli dèi",
          "Il libro completo dei finali",
          "Il metodo Warren Buffett",
          "Il mio sistema",
          "Il pragmatic programmer",
          "Il quidditch attraverso i secoli",
          "Il ritorno del re",
          "Il ritratto di Dorian Gray",
          "Il signore delle mosche",
          "Il volo del calabrone",
          "Introduzione all'analisi degli errori",
          "Keep It Simple for Black",
          "Keep it Simple: 1.e4",
          "L'imperatore-dio di Dune",
          "L'isola del tesoro",
          "L'ordine del tempo",
          "L'ultima traversa",
          "L'universo elegante",
          "La compagnia dell'anello",
          "La novella degli scacchi",
          "La rifondazione di Dune",
          "La strada che porta alla realtà",
          "Le due torri. Il Signore degli anelli",
          "Le intermittenze della morte",
          "Learn C# in One Day and Learn It Well",
          "Lo Hobbit annotato",
          "Lo strano caso del dottor Jekyll e del signor Hyde",
          "Lo zen e il tiro con l'arco",
          "Logica scacchistica vincente",
          "Manuale degli scacchi",
          "Messia di Dune",
          "Nudge. La spinta gentile.",
          "Origin",
          "Parliamo di musica",
          "Particelle e interazioni fondamentali",
          "Pensieri lenti e veloci",
          "Principles",
          "Python Crash Course, 3rd Edition",
          "Qed",
          "Racconti Incompiuti",
          "Se questo è un uomo",
          "Semi-Slav",
          "Sessanta partite da ricordare",
          "Sherlock Holmes: Uno Studio in Rosso",
          "Tal: Move by Move",
          "The Phoenix Project",
          "The Rating of Chess Players, Past and Present",
          "The Secret Ingredient",
          "The Sicilian Sveshnikov",
          "Ubik",
          "Utopia",
          "Ventimila leghe sotto i mari",
          "Viaggio al centro della terra",
          "ZeroZeroZero",
          "Biography",
          "C#",
          "C++",
          "Chess",
          "Chess",
          "Classic",
          "Classic",
          "Classic",
          "Classic",
          "Classic",
          "Classic",
          "Classic",
          "Coding",
          "Endgames",
          "Game theory",
          "Games",
          "Miscellanea",
          "Miscellanea",
          "Miscellanea",
          "Miscellanea",
          "Miscellanea",
          "Miscellanea",
          "Miscellanea",
          "Miscellanea",
          "Miscellanea",
          "Miscellanea",
          "Opening",
          "Python",
          "Scientific outreach",
          "Scientific outreach",
          "Training",
          "Adventure",
          "Chess",
          "Coding",
          "Economics",
          "Fantasy",
          "Fiction",
          "Math",
          "Music",
          "Philosophy",
          "Physics",
          "Psychology",
          "Science fiction",
          "Self improvement"
         ],
         "marker": {
          "coloraxis": "coloraxis",
          "colors": [
           6,
           8,
           8.5,
           4,
           8,
           8,
           8,
           7.5,
           6.5,
           5.5,
           8.5,
           6,
           7.5,
           7,
           6.5,
           8,
           8,
           6,
           5.5,
           5,
           6.5,
           4,
           9.5,
           6,
           7,
           8,
           8.5,
           6,
           7,
           8,
           4.5,
           6,
           7,
           3.5,
           5,
           7.5,
           7,
           3,
           8.5,
           6,
           7,
           6.5,
           6,
           6.5,
           7.5,
           7,
           6.5,
           6.5,
           5.5,
           7,
           4,
           6.5,
           9.5,
           6,
           3.5,
           5,
           8.5,
           7,
           4.5,
           7.5,
           5.5,
           7,
           4.5,
           7.5,
           6,
           9,
           4.5,
           7.5,
           8,
           8.5,
           4.5,
           4,
           6,
           6,
           6.5,
           6,
           5.5,
           5,
           4.5,
           8,
           3,
           6,
           4,
           6.5,
           4.5,
           4.5,
           6,
           6,
           7.115384615384615,
           4.5,
           7.454545454545454,
           5.2,
           5,
           5.760869565217392,
           6.370967741935484,
           8.5,
           5.896551724137931,
           7,
           8.757142857142858,
           5.357142857142857,
           8,
           7.5,
           7.5,
           6.981481481481482,
           6.5,
           6,
           7,
           7.361471861471862,
           6.368852459016393,
           6.214285714285714,
           7.5,
           8,
           6.329787234042553,
           6.74,
           5.674418604651163,
           4,
           9.5,
           6.214285714285714,
           5.785714285714286,
           6.027777777777778,
           6.237037037037037,
           6.987179487179487,
           7,
           7.361471861471862,
           6.209677419354839,
           7.775,
           7.5,
           7,
           6.653846153846154,
           8.38,
           6.06,
           6.74
          ],
          "cornerradius": 5,
          "line": {
           "width": 0
          }
         },
         "maxdepth": 2,
         "name": "",
         "parents": [
          "Chess/Miscellanea",
          "Self improvement/Miscellanea",
          "Chess/Biography",
          "Chess/Opening",
          "Coding/C++",
          "Chess/Games",
          "Coding/C++",
          "Psychology/Game theory",
          "Chess/Opening",
          "Chess/Opening",
          "Science fiction/Miscellanea",
          "Coding/C++",
          "Science fiction/Miscellanea",
          "Fantasy/Miscellanea",
          "Fantasy/Miscellanea",
          "Fiction/Miscellanea",
          "Chess/Classic",
          "Chess/Classic",
          "Chess/Classic",
          "Chess/Classic",
          "Chess/Classic",
          "Science fiction/Miscellanea",
          "Math/Scientific outreach",
          "Fantasy/Miscellanea",
          "Fantasy/Miscellanea",
          "Fantasy/Miscellanea",
          "Fantasy/Miscellanea",
          "Fantasy/Miscellanea",
          "Fantasy/Miscellanea",
          "Fantasy/Miscellanea",
          "Science fiction/Miscellanea",
          "Adventure/Classic",
          "Fantasy/Miscellanea",
          "Chess/Opening",
          "Science fiction/Chess",
          "Chess/Endgames",
          "Economics/Miscellanea",
          "Chess/Training",
          "Coding/Classic",
          "Fantasy/Miscellanea",
          "Fantasy/Miscellanea",
          "Fiction/Classic",
          "Fiction/Classic",
          "Adventure/Miscellanea",
          "Math/Miscellanea",
          "Chess/Opening",
          "Chess/Opening",
          "Science fiction/Miscellanea",
          "Adventure/Classic",
          "Physics/Scientific outreach",
          "Fiction/Chess",
          "Physics/Scientific outreach",
          "Fantasy/Miscellanea",
          "Fiction/Chess",
          "Science fiction/Miscellanea",
          "Physics/Scientific outreach",
          "Fantasy/Miscellanea",
          "Fiction/Miscellanea",
          "Coding/C#",
          "Fantasy/Miscellanea",
          "Fiction/Classic",
          "Philosophy/Classic",
          "Chess/Training",
          "Chess/Training",
          "Science fiction/Miscellanea",
          "Psychology/Classic",
          "Fiction/Miscellanea",
          "Music/Miscellanea",
          "Physics/Miscellanea",
          "Psychology/Classic",
          "Self improvement/Miscellanea",
          "Coding/Python",
          "Physics/Scientific outreach",
          "Fantasy/Miscellanea",
          "Fiction/Classic",
          "Chess/Opening",
          "Chess/Games",
          "Fiction/Miscellanea",
          "Chess/Biography",
          "Fiction/Coding",
          "Math/Miscellanea",
          "Chess/Training",
          "Chess/Opening",
          "Science fiction/Miscellanea",
          "Fiction/Classic",
          "Science fiction/Classic",
          "Science fiction/Classic",
          "Fiction/Miscellanea",
          "Chess",
          "Coding",
          "Coding",
          "Fiction",
          "Science fiction",
          "Adventure",
          "Chess",
          "Coding",
          "Fiction",
          "Philosophy",
          "Psychology",
          "Science fiction",
          "Fiction",
          "Chess",
          "Psychology",
          "Chess",
          "Adventure",
          "Chess",
          "Economics",
          "Fantasy",
          "Fiction",
          "Math",
          "Music",
          "Physics",
          "Science fiction",
          "Self improvement",
          "Chess",
          "Coding",
          "Math",
          "Physics",
          "Chess",
          "",
          "",
          "",
          "",
          "",
          "",
          "",
          "",
          "",
          "",
          "",
          "",
          ""
         ],
         "type": "treemap",
         "values": [
          6,
          8,
          8.5,
          4,
          8,
          8,
          8,
          7.5,
          6.5,
          5.5,
          8.5,
          6,
          7.5,
          7,
          6.5,
          8,
          8,
          6,
          5.5,
          5,
          6.5,
          4,
          9.5,
          6,
          7,
          8,
          8.5,
          6,
          7,
          8,
          4.5,
          6,
          7,
          3.5,
          5,
          7.5,
          7,
          3,
          8.5,
          6,
          7,
          6.5,
          6,
          6.5,
          7.5,
          7,
          6.5,
          6.5,
          5.5,
          7,
          4,
          6.5,
          9.5,
          6,
          3.5,
          5,
          8.5,
          7,
          4.5,
          7.5,
          5.5,
          7,
          4.5,
          7.5,
          6,
          9,
          4.5,
          7.5,
          8,
          8.5,
          4.5,
          4,
          6,
          6,
          6.5,
          6,
          5.5,
          5,
          4.5,
          8,
          3,
          6,
          4,
          6.5,
          4.5,
          4.5,
          6,
          6,
          13,
          4.5,
          22,
          10,
          5,
          11.5,
          31,
          8.5,
          29,
          7,
          17.5,
          10.5,
          8,
          7.5,
          7.5,
          13.5,
          6.5,
          6,
          7,
          115.5,
          30.5,
          10.5,
          7.5,
          8,
          47,
          12.5,
          43,
          4,
          9.5,
          24.5,
          21,
          18,
          135,
          39,
          7,
          115.5,
          77.5,
          20,
          7.5,
          7,
          32.5,
          25,
          62.5,
          12.5
         ]
        }
       ],
       "layout": {
        "coloraxis": {
         "colorbar": {
          "title": {
           "text": "Evaluation"
          }
         },
         "colorscale": [
          [
           0,
           "red"
          ],
          [
           0.5,
           "white"
          ],
          [
           1,
           "green"
          ]
         ]
        },
        "legend": {
         "tracegroupgap": 0
        },
        "margin": {
         "t": 60
        },
        "template": {
         "data": {
          "pie": [
           {
            "automargin": true,
            "type": "pie"
           }
          ]
         },
         "layout": {
          "xaxis": {
           "showgrid": true,
           "title": {
            "standoff": 15
           }
          },
          "yaxis": {
           "showgrid": true,
           "title": {
            "standoff": 15
           }
          }
         }
        }
       }
      }
     },
     "metadata": {},
     "output_type": "display_data"
    }
   ],
   "source": [
    "read = df[df['Status'] == 'Read']\n",
    "   \n",
    "# Crea il treemap utilizzando le medie calcolate come colore\n",
    "fig = px.treemap(read, \n",
    "                 path=['Category', 'Sub-Category','Title'],  # Utilizza solo 'Category' e 'Sub-Category' come livelli\n",
    "                 values='Evaluation',  # Valori da rappresentare nel treemap\n",
    "                 color='Evaluation',  # Colore basato sulla media di 'Evaluation'\n",
    "                 color_continuous_scale=[[0, 'red'], [0.5, 'white'], [1, 'green']],\n",
    "                 maxdepth=2,\n",
    "                 title=''\n",
    "                 ) \n",
    "\n",
    "fig.update_traces(marker=dict(cornerradius=5))\n",
    "fig.update_traces(marker=dict(line=dict(width=0)))\n",
    "fig.show()"
   ]
  }
 ],
 "metadata": {
  "kernelspec": {
   "display_name": "Python 3 (ipykernel)",
   "language": "python",
   "name": "python3"
  },
  "language_info": {
   "codemirror_mode": {
    "name": "ipython",
    "version": 3
   },
   "file_extension": ".py",
   "mimetype": "text/x-python",
   "name": "python",
   "nbconvert_exporter": "python",
   "pygments_lexer": "ipython3",
   "version": "3.10.9"
  }
 },
 "nbformat": 4,
 "nbformat_minor": 5
}
