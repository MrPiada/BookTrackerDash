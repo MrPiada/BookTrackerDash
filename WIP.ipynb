{
 "cells": [
  {
   "cell_type": "code",
   "execution_count": 2,
   "id": "afd39795",
   "metadata": {},
   "outputs": [],
   "source": [
    "from datetime import datetime, timedelta\n",
    "import pandas as pd\n",
    "from openpyxl import load_workbook\n",
    "import plotly.express as px\n",
    "import plotly.graph_objects as go\n",
    "from plotly.subplots import make_subplots\n",
    "import plotly.io as pio"
   ]
  },
  {
   "cell_type": "code",
   "execution_count": 3,
   "id": "9585906d",
   "metadata": {},
   "outputs": [],
   "source": [
    "pio.templates.default = \"gridon\""
   ]
  },
  {
   "cell_type": "code",
   "execution_count": 8,
   "id": "870a0cf8",
   "metadata": {},
   "outputs": [],
   "source": [
    "def extract_date(date_str):\n",
    "    return date_str.split('T')[0]\n",
    "\n",
    "\n",
    "# Carica il tuo file Excel e prepara i dati come hai fatto nel tuo codice\n",
    "# originale\n",
    "file_excel = \"data/shelf.xlsx\"\n",
    "df = pd.read_excel(file_excel, sheet_name=\"Shelf\")\n",
    "df = df.drop('Cover', axis=1)"
   ]
  },
  {
   "cell_type": "code",
   "execution_count": 15,
   "id": "2a8bd6f4",
   "metadata": {},
   "outputs": [
    {
     "data": {
      "text/html": [
       "<div>\n",
       "<style scoped>\n",
       "    .dataframe tbody tr th:only-of-type {\n",
       "        vertical-align: middle;\n",
       "    }\n",
       "\n",
       "    .dataframe tbody tr th {\n",
       "        vertical-align: top;\n",
       "    }\n",
       "\n",
       "    .dataframe thead th {\n",
       "        text-align: right;\n",
       "    }\n",
       "</style>\n",
       "<table border=\"1\" class=\"dataframe\">\n",
       "  <thead>\n",
       "    <tr style=\"text-align: right;\">\n",
       "      <th></th>\n",
       "      <th>Status</th>\n",
       "      <th>Title</th>\n",
       "      <th>Authors</th>\n",
       "      <th>Start</th>\n",
       "      <th>End</th>\n",
       "      <th>Type</th>\n",
       "      <th>Category</th>\n",
       "      <th>Sub-Category</th>\n",
       "      <th>Language</th>\n",
       "    </tr>\n",
       "  </thead>\n",
       "  <tbody>\n",
       "    <tr>\n",
       "      <th>0</th>\n",
       "      <td>Read</td>\n",
       "      <td>C++ Crash Course</td>\n",
       "      <td>Lospinoso,Josh</td>\n",
       "      <td>NaT</td>\n",
       "      <td>NaT</td>\n",
       "      <td>ebook</td>\n",
       "      <td>Coding</td>\n",
       "      <td>Miscellanea</td>\n",
       "      <td>en</td>\n",
       "    </tr>\n",
       "    <tr>\n",
       "      <th>1</th>\n",
       "      <td>Read</td>\n",
       "      <td>Beautiful C++</td>\n",
       "      <td>Davidson,J.;Gregory,Kate</td>\n",
       "      <td>NaT</td>\n",
       "      <td>NaT</td>\n",
       "      <td>ebook</td>\n",
       "      <td>Coding</td>\n",
       "      <td>NaN</td>\n",
       "      <td>en</td>\n",
       "    </tr>\n",
       "    <tr>\n",
       "      <th>2</th>\n",
       "      <td>Read</td>\n",
       "      <td>Calcoli morali</td>\n",
       "      <td>Mérö,László</td>\n",
       "      <td>NaT</td>\n",
       "      <td>NaT</td>\n",
       "      <td>paper</td>\n",
       "      <td>Psychology</td>\n",
       "      <td>NaN</td>\n",
       "      <td>it</td>\n",
       "    </tr>\n",
       "  </tbody>\n",
       "</table>\n",
       "</div>"
      ],
      "text/plain": [
       "  Status             Title                   Authors Start End   Type  \\\n",
       "0   Read  C++ Crash Course            Lospinoso,Josh   NaT NaT  ebook   \n",
       "1   Read     Beautiful C++  Davidson,J.;Gregory,Kate   NaT NaT  ebook   \n",
       "2   Read    Calcoli morali               Mérö,László   NaT NaT  paper   \n",
       "\n",
       "     Category Sub-Category Language  \n",
       "0      Coding  Miscellanea       en  \n",
       "1      Coding          NaN       en  \n",
       "2  Psychology          NaN       it  "
      ]
     },
     "execution_count": 15,
     "metadata": {},
     "output_type": "execute_result"
    }
   ],
   "source": [
    "df.head(3)"
   ]
  },
  {
   "cell_type": "code",
   "execution_count": 14,
   "id": "9c3807b9",
   "metadata": {},
   "outputs": [
    {
     "data": {
      "application/vnd.plotly.v1+json": {
       "config": {
        "plotlyServerURL": "https://plot.ly"
       },
       "data": [
        {
         "hoverinfo": "label+percent",
         "labels": [
          "Read",
          "Waiting",
          "Reading",
          "Dismissed"
         ],
         "marker": {
          "colors": [
           "green",
           "yellow",
           "blue",
           "red"
          ],
          "line": {
           "color": "#000000",
           "width": 2
          }
         },
         "textfont": {
          "size": 30
         },
         "textinfo": "value",
         "type": "pie",
         "values": [
          88,
          25,
          8,
          7
         ]
        }
       ],
       "layout": {
        "template": {
         "data": {
          "pie": [
           {
            "automargin": true,
            "type": "pie"
           }
          ]
         },
         "layout": {
          "xaxis": {
           "showgrid": true,
           "title": {
            "standoff": 15
           }
          },
          "yaxis": {
           "showgrid": true,
           "title": {
            "standoff": 15
           }
          }
         }
        }
       }
      },
      "text/html": [
       "<div>                            <div id=\"41450073-0889-4bf1-ae85-73190cc67a79\" class=\"plotly-graph-div\" style=\"height:525px; width:100%;\"></div>            <script type=\"text/javascript\">                require([\"plotly\"], function(Plotly) {                    window.PLOTLYENV=window.PLOTLYENV || {};                                    if (document.getElementById(\"41450073-0889-4bf1-ae85-73190cc67a79\")) {                    Plotly.newPlot(                        \"41450073-0889-4bf1-ae85-73190cc67a79\",                        [{\"labels\":[\"Read\",\"Waiting\",\"Reading\",\"Dismissed\"],\"values\":[88,25,8,7],\"type\":\"pie\",\"textfont\":{\"size\":30},\"marker\":{\"line\":{\"color\":\"#000000\",\"width\":2},\"colors\":[\"green\",\"yellow\",\"blue\",\"red\"]},\"hoverinfo\":\"label+percent\",\"textinfo\":\"value\"}],                        {\"template\":{\"data\":{\"pie\":[{\"automargin\":true,\"type\":\"pie\"}]},\"layout\":{\"xaxis\":{\"showgrid\":true,\"title\":{\"standoff\":15}},\"yaxis\":{\"showgrid\":true,\"title\":{\"standoff\":15}}}}},                        {\"responsive\": true}                    ).then(function(){\n",
       "                            \n",
       "var gd = document.getElementById('41450073-0889-4bf1-ae85-73190cc67a79');\n",
       "var x = new MutationObserver(function (mutations, observer) {{\n",
       "        var display = window.getComputedStyle(gd).display;\n",
       "        if (!display || display === 'none') {{\n",
       "            console.log([gd, 'removed!']);\n",
       "            Plotly.purge(gd);\n",
       "            observer.disconnect();\n",
       "        }}\n",
       "}});\n",
       "\n",
       "// Listen for the removal of the full notebook cells\n",
       "var notebookContainer = gd.closest('#notebook-container');\n",
       "if (notebookContainer) {{\n",
       "    x.observe(notebookContainer, {childList: true});\n",
       "}}\n",
       "\n",
       "// Listen for the clearing of the current output cell\n",
       "var outputEl = gd.closest('.output');\n",
       "if (outputEl) {{\n",
       "    x.observe(outputEl, {childList: true});\n",
       "}}\n",
       "\n",
       "                        })                };                });            </script>        </div>"
      ]
     },
     "metadata": {},
     "output_type": "display_data"
    }
   ],
   "source": [
    "colors = ['green', 'yellow', 'blue', 'red']\n",
    "status_counts = df['Status'].value_counts()\n",
    "\n",
    "fig = go.Figure(data=[go.Pie(labels=status_counts.index,\n",
    "                             values=status_counts.values)])\n",
    "fig.update_traces(hoverinfo='label+percent', textinfo='value', textfont_size=30,\n",
    "                  marker=dict(colors=colors, line=dict(color='#000000', width=2)))\n",
    "fig.show()"
   ]
  },
  {
   "cell_type": "code",
   "execution_count": 16,
   "id": "47d8ea64",
   "metadata": {},
   "outputs": [
    {
     "data": {
      "text/plain": [
       "Index(['Status', 'Title', 'Authors', 'Start', 'End', 'Type', 'Category',\n",
       "       'Sub-Category', 'Language'],\n",
       "      dtype='object')"
      ]
     },
     "execution_count": 16,
     "metadata": {},
     "output_type": "execute_result"
    }
   ],
   "source": [
    "df.columns"
   ]
  },
  {
   "cell_type": "code",
   "execution_count": 28,
   "id": "6bddb851",
   "metadata": {},
   "outputs": [
    {
     "data": {
      "application/vnd.plotly.v1+json": {
       "config": {
        "plotlyServerURL": "https://plot.ly"
       },
       "data": [
        {
         "alignmentgroup": "True",
         "base": [
          "2022-11-06T00:00:00",
          "2023-04-19T00:00:00",
          "2023-06-18T00:00:00"
         ],
         "customdata": [
          [
           "Moskalenko,Viktor",
           "ebook",
           null,
           "en",
           "Reading"
          ],
          [
           "Flórián,Tibor",
           "paper",
           null,
           "it",
           "Reading"
          ],
          [
           "Justesen,Martin",
           "ebook",
           null,
           "en",
           "Reading"
          ]
         ],
         "hovertemplate": "Category=Chess<br>Start=%{base}<br>End=%{x}<br>Title=%{y}<br>Authors=%{customdata[0]}<br>Type=%{customdata[1]}<br>Sub-Category=%{customdata[2]}<br>Language=%{customdata[3]}<br>Status=%{customdata[4]}<extra></extra>",
         "legendgroup": "Chess",
         "marker": {
          "color": "#1F77B4",
          "line": {
           "width": 2
          },
          "pattern": {
           "shape": ""
          }
         },
         "name": "Chess",
         "offsetgroup": "Chess",
         "orientation": "h",
         "showlegend": true,
         "textposition": "auto",
         "type": "bar",
         "x": [
          28944000000,
          14774400000,
          9590400000
         ],
         "xaxis": "x",
         "y": [
          "Training with Moska",
          "Difesa e contrattacco",
          "Blindfold Endgame Visualization"
         ],
         "yaxis": "y"
        },
        {
         "alignmentgroup": "True",
         "base": [
          "2022-12-18T00:00:00",
          "2023-08-15T00:00:00"
         ],
         "customdata": [
          [
           "Iglberger,Klaus",
           "paper",
           null,
           "en",
           "Reading"
          ],
          [
           "Lapan,Maxim",
           "ebook",
           null,
           "en",
           "Reading"
          ]
         ],
         "hovertemplate": "Category=Coding<br>Start=%{base}<br>End=%{x}<br>Title=%{y}<br>Authors=%{customdata[0]}<br>Type=%{customdata[1]}<br>Sub-Category=%{customdata[2]}<br>Language=%{customdata[3]}<br>Status=%{customdata[4]}<extra></extra>",
         "legendgroup": "Coding",
         "marker": {
          "color": "#FF7F0E",
          "line": {
           "width": 2
          },
          "pattern": {
           "shape": ""
          }
         },
         "name": "Coding",
         "offsetgroup": "Coding",
         "orientation": "h",
         "showlegend": true,
         "textposition": "auto",
         "type": "bar",
         "x": [
          25315200000,
          4579200000
         ],
         "xaxis": "x",
         "y": [
          "C++ Software Design",
          "Deep Reinforcement Learning Hands-On"
         ],
         "yaxis": "y"
        },
        {
         "alignmentgroup": "True",
         "base": [
          "2023-05-13T00:00:00"
         ],
         "customdata": [
          [
           "Sonmez,John",
           "ebook",
           null,
           "en",
           "Reading"
          ]
         ],
         "hovertemplate": "Category=Self improvement<br>Start=%{base}<br>End=%{x}<br>Title=%{y}<br>Authors=%{customdata[0]}<br>Type=%{customdata[1]}<br>Sub-Category=%{customdata[2]}<br>Language=%{customdata[3]}<br>Status=%{customdata[4]}<extra></extra>",
         "legendgroup": "Self improvement",
         "marker": {
          "color": "#2CA02C",
          "line": {
           "width": 2
          },
          "pattern": {
           "shape": ""
          }
         },
         "name": "Self improvement",
         "offsetgroup": "Self improvement",
         "orientation": "h",
         "showlegend": true,
         "textposition": "auto",
         "type": "bar",
         "x": [
          12700800000
         ],
         "xaxis": "x",
         "y": [
          "Soft Skills"
         ],
         "yaxis": "y"
        },
        {
         "alignmentgroup": "True",
         "base": [
          "2023-05-14T00:00:00"
         ],
         "customdata": [
          [
           "Sunstein,Cass R.;Thaler,Richard H.",
           "ebook",
           null,
           "it",
           "Read"
          ]
         ],
         "hovertemplate": "Category=Psychology<br>Start=%{base}<br>End=%{x}<br>Title=%{y}<br>Authors=%{customdata[0]}<br>Type=%{customdata[1]}<br>Sub-Category=%{customdata[2]}<br>Language=%{customdata[3]}<br>Status=%{customdata[4]}<extra></extra>",
         "legendgroup": "Psychology",
         "marker": {
          "color": "#D62728",
          "line": {
           "width": 2
          },
          "pattern": {
           "shape": ""
          }
         },
         "name": "Psychology",
         "offsetgroup": "Psychology",
         "orientation": "h",
         "showlegend": true,
         "textposition": "auto",
         "type": "bar",
         "x": [
          12528000000
         ],
         "xaxis": "x",
         "y": [
          "Nudge. La spinta gentile."
         ],
         "yaxis": "y"
        },
        {
         "alignmentgroup": "True",
         "base": [
          "2023-07-09T00:00:00"
         ],
         "customdata": [
          [
           "Palahniuk,Chuck",
           "ebook",
           null,
           "it",
           "Reading"
          ]
         ],
         "hovertemplate": "Category=Fiction<br>Start=%{base}<br>End=%{x}<br>Title=%{y}<br>Authors=%{customdata[0]}<br>Type=%{customdata[1]}<br>Sub-Category=%{customdata[2]}<br>Language=%{customdata[3]}<br>Status=%{customdata[4]}<extra></extra>",
         "legendgroup": "Fiction",
         "marker": {
          "color": "#9467BD",
          "line": {
           "width": 2
          },
          "pattern": {
           "shape": ""
          }
         },
         "name": "Fiction",
         "offsetgroup": "Fiction",
         "orientation": "h",
         "showlegend": true,
         "textposition": "auto",
         "type": "bar",
         "x": [
          7776000000
         ],
         "xaxis": "x",
         "y": [
          "Gang bang"
         ],
         "yaxis": "y"
        },
        {
         "alignmentgroup": "True",
         "base": [
          "2023-09-13T00:00:00"
         ],
         "customdata": [
          [
           "Paolini,Christopher",
           "audiobook",
           null,
           "en",
           "Reading"
          ]
         ],
         "hovertemplate": "Category=Fantasy<br>Start=%{base}<br>End=%{x}<br>Title=%{y}<br>Authors=%{customdata[0]}<br>Type=%{customdata[1]}<br>Sub-Category=%{customdata[2]}<br>Language=%{customdata[3]}<br>Status=%{customdata[4]}<extra></extra>",
         "legendgroup": "Fantasy",
         "marker": {
          "color": "#8C564B",
          "line": {
           "width": 2
          },
          "pattern": {
           "shape": ""
          }
         },
         "name": "Fantasy",
         "offsetgroup": "Fantasy",
         "orientation": "h",
         "showlegend": true,
         "textposition": "auto",
         "type": "bar",
         "x": [
          2073600000
         ],
         "xaxis": "x",
         "y": [
          "Brisingr"
         ],
         "yaxis": "y"
        }
       ],
       "layout": {
        "barmode": "overlay",
        "legend": {
         "title": {
          "text": "Category"
         },
         "tracegroupgap": 0
        },
        "margin": {
         "l": 250,
         "t": 60
        },
        "showlegend": true,
        "template": {
         "data": {
          "pie": [
           {
            "automargin": true,
            "type": "pie"
           }
          ]
         },
         "layout": {
          "xaxis": {
           "showgrid": true,
           "title": {
            "standoff": 15
           }
          },
          "yaxis": {
           "showgrid": true,
           "title": {
            "standoff": 15
           }
          }
         }
        },
        "title": {
         "text": ""
        },
        "xaxis": {
         "anchor": "y",
         "domain": [
          0,
          1
         ],
         "title": {
          "text": ""
         },
         "type": "date"
        },
        "yaxis": {
         "anchor": "x",
         "categoryorder": "total ascending",
         "domain": [
          0,
          1
         ],
         "title": {
          "text": ""
         }
        }
       }
      },
      "text/html": [
       "<div>                            <div id=\"e569c016-4e3d-4550-b588-fce39759bc58\" class=\"plotly-graph-div\" style=\"height:525px; width:100%;\"></div>            <script type=\"text/javascript\">                require([\"plotly\"], function(Plotly) {                    window.PLOTLYENV=window.PLOTLYENV || {};                                    if (document.getElementById(\"e569c016-4e3d-4550-b588-fce39759bc58\")) {                    Plotly.newPlot(                        \"e569c016-4e3d-4550-b588-fce39759bc58\",                        [{\"alignmentgroup\":\"True\",\"base\":[\"2022-11-06T00:00:00\",\"2023-04-19T00:00:00\",\"2023-06-18T00:00:00\"],\"customdata\":[[\"Moskalenko,Viktor\",\"ebook\",null,\"en\",\"Reading\"],[\"Fl\\u00f3ri\\u00e1n,Tibor\",\"paper\",null,\"it\",\"Reading\"],[\"Justesen,Martin\",\"ebook\",null,\"en\",\"Reading\"]],\"hovertemplate\":\"Category=Chess<br>Start=%{base}<br>End=%{x}<br>Title=%{y}<br>Authors=%{customdata[0]}<br>Type=%{customdata[1]}<br>Sub-Category=%{customdata[2]}<br>Language=%{customdata[3]}<br>Status=%{customdata[4]}<extra></extra>\",\"legendgroup\":\"Chess\",\"marker\":{\"color\":\"#1F77B4\",\"pattern\":{\"shape\":\"\"},\"line\":{\"width\":2}},\"name\":\"Chess\",\"offsetgroup\":\"Chess\",\"orientation\":\"h\",\"showlegend\":true,\"textposition\":\"auto\",\"x\":[28944000000.0,14774400000.0,9590400000.0],\"xaxis\":\"x\",\"y\":[\"Training with Moska\",\"Difesa e contrattacco\",\"Blindfold Endgame Visualization\"],\"yaxis\":\"y\",\"type\":\"bar\"},{\"alignmentgroup\":\"True\",\"base\":[\"2022-12-18T00:00:00\",\"2023-08-15T00:00:00\"],\"customdata\":[[\"Iglberger,Klaus\",\"paper\",null,\"en\",\"Reading\"],[\"Lapan,Maxim\",\"ebook\",null,\"en\",\"Reading\"]],\"hovertemplate\":\"Category=Coding<br>Start=%{base}<br>End=%{x}<br>Title=%{y}<br>Authors=%{customdata[0]}<br>Type=%{customdata[1]}<br>Sub-Category=%{customdata[2]}<br>Language=%{customdata[3]}<br>Status=%{customdata[4]}<extra></extra>\",\"legendgroup\":\"Coding\",\"marker\":{\"color\":\"#FF7F0E\",\"pattern\":{\"shape\":\"\"},\"line\":{\"width\":2}},\"name\":\"Coding\",\"offsetgroup\":\"Coding\",\"orientation\":\"h\",\"showlegend\":true,\"textposition\":\"auto\",\"x\":[25315200000.0,4579200000.0],\"xaxis\":\"x\",\"y\":[\"C++ Software Design\",\"Deep Reinforcement Learning Hands-On\"],\"yaxis\":\"y\",\"type\":\"bar\"},{\"alignmentgroup\":\"True\",\"base\":[\"2023-05-13T00:00:00\"],\"customdata\":[[\"Sonmez,John\",\"ebook\",null,\"en\",\"Reading\"]],\"hovertemplate\":\"Category=Self improvement<br>Start=%{base}<br>End=%{x}<br>Title=%{y}<br>Authors=%{customdata[0]}<br>Type=%{customdata[1]}<br>Sub-Category=%{customdata[2]}<br>Language=%{customdata[3]}<br>Status=%{customdata[4]}<extra></extra>\",\"legendgroup\":\"Self improvement\",\"marker\":{\"color\":\"#2CA02C\",\"pattern\":{\"shape\":\"\"},\"line\":{\"width\":2}},\"name\":\"Self improvement\",\"offsetgroup\":\"Self improvement\",\"orientation\":\"h\",\"showlegend\":true,\"textposition\":\"auto\",\"x\":[12700800000.0],\"xaxis\":\"x\",\"y\":[\"Soft Skills\"],\"yaxis\":\"y\",\"type\":\"bar\"},{\"alignmentgroup\":\"True\",\"base\":[\"2023-05-14T00:00:00\"],\"customdata\":[[\"Sunstein,Cass R.;Thaler,Richard H.\",\"ebook\",null,\"it\",\"Read\"]],\"hovertemplate\":\"Category=Psychology<br>Start=%{base}<br>End=%{x}<br>Title=%{y}<br>Authors=%{customdata[0]}<br>Type=%{customdata[1]}<br>Sub-Category=%{customdata[2]}<br>Language=%{customdata[3]}<br>Status=%{customdata[4]}<extra></extra>\",\"legendgroup\":\"Psychology\",\"marker\":{\"color\":\"#D62728\",\"pattern\":{\"shape\":\"\"},\"line\":{\"width\":2}},\"name\":\"Psychology\",\"offsetgroup\":\"Psychology\",\"orientation\":\"h\",\"showlegend\":true,\"textposition\":\"auto\",\"x\":[12528000000.0],\"xaxis\":\"x\",\"y\":[\"Nudge. La spinta gentile.\"],\"yaxis\":\"y\",\"type\":\"bar\"},{\"alignmentgroup\":\"True\",\"base\":[\"2023-07-09T00:00:00\"],\"customdata\":[[\"Palahniuk,Chuck\",\"ebook\",null,\"it\",\"Reading\"]],\"hovertemplate\":\"Category=Fiction<br>Start=%{base}<br>End=%{x}<br>Title=%{y}<br>Authors=%{customdata[0]}<br>Type=%{customdata[1]}<br>Sub-Category=%{customdata[2]}<br>Language=%{customdata[3]}<br>Status=%{customdata[4]}<extra></extra>\",\"legendgroup\":\"Fiction\",\"marker\":{\"color\":\"#9467BD\",\"pattern\":{\"shape\":\"\"},\"line\":{\"width\":2}},\"name\":\"Fiction\",\"offsetgroup\":\"Fiction\",\"orientation\":\"h\",\"showlegend\":true,\"textposition\":\"auto\",\"x\":[7776000000.0],\"xaxis\":\"x\",\"y\":[\"Gang bang\"],\"yaxis\":\"y\",\"type\":\"bar\"},{\"alignmentgroup\":\"True\",\"base\":[\"2023-09-13T00:00:00\"],\"customdata\":[[\"Paolini,Christopher\",\"audiobook\",null,\"en\",\"Reading\"]],\"hovertemplate\":\"Category=Fantasy<br>Start=%{base}<br>End=%{x}<br>Title=%{y}<br>Authors=%{customdata[0]}<br>Type=%{customdata[1]}<br>Sub-Category=%{customdata[2]}<br>Language=%{customdata[3]}<br>Status=%{customdata[4]}<extra></extra>\",\"legendgroup\":\"Fantasy\",\"marker\":{\"color\":\"#8C564B\",\"pattern\":{\"shape\":\"\"},\"line\":{\"width\":2}},\"name\":\"Fantasy\",\"offsetgroup\":\"Fantasy\",\"orientation\":\"h\",\"showlegend\":true,\"textposition\":\"auto\",\"x\":[2073600000.0],\"xaxis\":\"x\",\"y\":[\"Brisingr\"],\"yaxis\":\"y\",\"type\":\"bar\"}],                        {\"template\":{\"data\":{\"pie\":[{\"automargin\":true,\"type\":\"pie\"}]},\"layout\":{\"xaxis\":{\"showgrid\":true,\"title\":{\"standoff\":15}},\"yaxis\":{\"showgrid\":true,\"title\":{\"standoff\":15}}}},\"xaxis\":{\"anchor\":\"y\",\"domain\":[0.0,1.0],\"type\":\"date\",\"title\":{\"text\":\"\"}},\"yaxis\":{\"anchor\":\"x\",\"domain\":[0.0,1.0],\"title\":{\"text\":\"\"},\"categoryorder\":\"total ascending\"},\"legend\":{\"title\":{\"text\":\"Category\"},\"tracegroupgap\":0},\"margin\":{\"t\":60,\"l\":250},\"barmode\":\"overlay\",\"title\":{\"text\":\"\"},\"showlegend\":true},                        {\"responsive\": true}                    ).then(function(){\n",
       "                            \n",
       "var gd = document.getElementById('e569c016-4e3d-4550-b588-fce39759bc58');\n",
       "var x = new MutationObserver(function (mutations, observer) {{\n",
       "        var display = window.getComputedStyle(gd).display;\n",
       "        if (!display || display === 'none') {{\n",
       "            console.log([gd, 'removed!']);\n",
       "            Plotly.purge(gd);\n",
       "            observer.disconnect();\n",
       "        }}\n",
       "}});\n",
       "\n",
       "// Listen for the removal of the full notebook cells\n",
       "var notebookContainer = gd.closest('#notebook-container');\n",
       "if (notebookContainer) {{\n",
       "    x.observe(notebookContainer, {childList: true});\n",
       "}}\n",
       "\n",
       "// Listen for the clearing of the current output cell\n",
       "var outputEl = gd.closest('.output');\n",
       "if (outputEl) {{\n",
       "    x.observe(outputEl, {childList: true});\n",
       "}}\n",
       "\n",
       "                        })                };                });            </script>        </div>"
      ]
     },
     "metadata": {},
     "output_type": "display_data"
    }
   ],
   "source": [
    "# Copia il DataFrame originale per evitare modifiche indesiderate\n",
    "df_copy = df.copy()\n",
    "\n",
    "# Sostituisci le date End mancanti con la data di oggi\n",
    "today = datetime.today().date()\n",
    "df_copy['End'].fillna(today, inplace=True)\n",
    "\n",
    "# Crea il Gantt chart con Plotly Express\n",
    "fig = px.timeline(df_copy[df_copy['Start'].notna()], x_start='Start', x_end='End', y='Title', color='Category', hover_data=['Authors', 'Type', 'Sub-Category', 'Language', 'Status'])\n",
    "\n",
    "fig.update_yaxes(categoryorder=\"total ascending\")\n",
    "\n",
    "fig.update_layout(\n",
    "    xaxis_title=\"\",\n",
    "    yaxis_title=\"\",\n",
    "    title=\"\",\n",
    "    showlegend=True,\n",
    "    margin=dict(l=250)\n",
    ")\n",
    "\n",
    "fig.update_traces(marker=dict(line=dict(width=2)))  # Modifica la larghezza delle barre\n",
    "\n",
    "\n",
    "fig.show()"
   ]
  },
  {
   "cell_type": "code",
   "execution_count": null,
   "id": "d5147a90",
   "metadata": {},
   "outputs": [],
   "source": []
  }
 ],
 "metadata": {
  "kernelspec": {
   "display_name": "Python 3 (ipykernel)",
   "language": "python",
   "name": "python3"
  },
  "language_info": {
   "codemirror_mode": {
    "name": "ipython",
    "version": 3
   },
   "file_extension": ".py",
   "mimetype": "text/x-python",
   "name": "python",
   "nbconvert_exporter": "python",
   "pygments_lexer": "ipython3",
   "version": "3.10.9"
  }
 },
 "nbformat": 4,
 "nbformat_minor": 5
}
